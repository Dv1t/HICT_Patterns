{
 "cells": [
  {
   "cell_type": "code",
   "execution_count": 1,
   "outputs": [],
   "source": [
    "import pandas as pd\n",
    "from pathlib import Path\n",
    "from hict.api.ContactMatrixFacet import ContactMatrixFacet\n",
    "from hict.util.matrix_visualise import MatrixVisualise\n",
    "import cooler\n",
    "import matplotlib.pyplot as plt\n",
    "import numpy as np\n",
    "import os\n",
    "import tensorflow as tf\n",
    "from keras.models import load_model\n",
    "import glob"
   ],
   "metadata": {
    "collapsed": false,
    "ExecuteTime": {
     "end_time": "2023-07-30T15:41:25.959837300Z",
     "start_time": "2023-07-30T15:41:21.861170900Z"
    }
   }
  },
  {
   "cell_type": "markdown",
   "source": [
    "# Setup constants and load models"
   ],
   "metadata": {
    "collapsed": false
   }
  },
  {
   "cell_type": "code",
   "execution_count": 2,
   "outputs": [
    {
     "name": "stdout",
     "output_type": "stream",
     "text": [
      "WARNING:tensorflow:Error in loading the saved optimizer state. As a result, your model is starting with a freshly initialized optimizer.\n",
      "WARNING:tensorflow:Error in loading the saved optimizer state. As a result, your model is starting with a freshly initialized optimizer.\n",
      "WARNING:tensorflow:Error in loading the saved optimizer state. As a result, your model is starting with a freshly initialized optimizer.\n",
      "WARNING:tensorflow:Error in loading the saved optimizer state. As a result, your model is starting with a freshly initialized optimizer.\n",
      "WARNING:tensorflow:Error in loading the saved optimizer state. As a result, your model is starting with a freshly initialized optimizer.\n",
      "WARNING:tensorflow:Error in loading the saved optimizer state. As a result, your model is starting with a freshly initialized optimizer.\n"
     ]
    }
   ],
   "source": [
    "img_height = 20\n",
    "img_width = 20\n",
    "\n",
    "centered_first = load_model(\"D:/Study/HICT/HICT_Patterns/exported_models/centered_first.keras\")\n",
    "centered_second = load_model(\"D:/Study/HICT/HICT_Patterns/exported_models/centered_second.keras\")\n",
    "centered_third = load_model(\"D:/Study/HICT/HICT_Patterns/exported_models/centered_third.keras\")\n",
    "\n",
    "final_first = load_model(\"D:/Study/HICT/HICT_Patterns/exported_models/final_first.keras\")\n",
    "final_second = load_model(\"D:/Study/HICT/HICT_Patterns/exported_models/final_second.keras\")\n",
    "final_third = load_model(\"D:/Study/HICT/HICT_Patterns/exported_models/final_third.keras\")"
   ],
   "metadata": {
    "collapsed": false,
    "ExecuteTime": {
     "end_time": "2023-07-30T15:41:29.458865700Z",
     "start_time": "2023-07-30T15:41:28.660200600Z"
    }
   }
  },
  {
   "cell_type": "markdown",
   "source": [
    "# Create empty directories for temp files"
   ],
   "metadata": {
    "collapsed": false
   }
  },
  {
   "cell_type": "code",
   "execution_count": null,
   "outputs": [],
   "source": [
    "def delete_temp_images(path):\n",
    "    files = glob.glob(f'{path}/*')\n",
    "    for f in files:\n",
    "        os.remove(f)\n",
    "\n",
    "chr = 'scf5'\n",
    "resolution = 50000\n",
    "dataset_path = f'datasets/temp_images_{resolution//1000}'\n",
    "unknown_images_path = f'datasets/temp_images_{resolution//1000}/unknown'\n",
    "\n",
    "if not os.path.exists(dataset_path):\n",
    "    os.mkdir(dataset_path)\n",
    "\n",
    "if not os.path.exists(unknown_images_path):\n",
    "    os.mkdir(unknown_images_path)\n",
    "delete_temp_images(unknown_images_path)"
   ],
   "metadata": {
    "collapsed": false
   }
  },
  {
   "cell_type": "markdown",
   "source": [
    "# Load matrix from source"
   ],
   "metadata": {
    "collapsed": false
   }
  },
  {
   "cell_type": "code",
   "execution_count": null,
   "outputs": [],
   "source": [
    "#c = cooler.Cooler(f'data/atrop_ebre/atrop_ebre_4DN.mcool::/resolutions/{resolution}')\n",
    "#matrix = c.matrix(balance=False).fetch(chr)\n",
    "\n",
    "chunkFile = ContactMatrixFacet.get_file_descriptor('data/arab_dongX_vs_mopti_2nd_try.hdf5')\n",
    "ContactMatrixFacet.open_file(chunkFile)\n",
    "ContactMatrixFacet.load_assembly_from_agp(chunkFile, Path('data/mopti_female_assembly_2.agp'))\n",
    "matrix = MatrixVisualise.get_matrix(chunkFile, 'scaffold_5', resolution, False)"
   ],
   "metadata": {
    "collapsed": false
   }
  },
  {
   "cell_type": "markdown",
   "source": [
    "# Create samples for detection from matrix main diagonal"
   ],
   "metadata": {
    "collapsed": false
   }
  },
  {
   "cell_type": "code",
   "execution_count": null,
   "outputs": [],
   "source": [
    "src_matrix = np.log10(matrix+1)\n",
    "max_value = np.nanmax(src_matrix)\n",
    "min_value = np.nanmin(src_matrix)\n",
    "for i in range(10, src_matrix.shape[0]-10):\n",
    "        point = (i, i)\n",
    "        point_area = src_matrix[point[1]-10:point[1]+10, point[0]-10:point[0]+10]\n",
    "        plt.imsave(f'{unknown_images_path}/{chr}_{i*resolution}_{i*resolution}.png',  point_area, cmap='gray', vmax=max_value, vmin=min_value)"
   ],
   "metadata": {
    "collapsed": false
   }
  },
  {
   "cell_type": "markdown",
   "source": [
    "# Primary detection by samples from main diagonal only"
   ],
   "metadata": {
    "collapsed": false
   }
  },
  {
   "cell_type": "code",
   "execution_count": null,
   "outputs": [],
   "source": [
    "detected_points = []\n",
    "\n",
    "for path in os.listdir(unknown_images_path):\n",
    "    img_path = os.path.join(unknown_images_path, path)\n",
    "    with tf.device('/device:CPU:0'):\n",
    "        img = tf.keras.utils.load_img(\n",
    "            img_path, target_size=(img_height, img_width)\n",
    "        )\n",
    "        img_array = tf.keras.utils.img_to_array(img)\n",
    "        img_array = tf.expand_dims(img_array, 0) # Create a batch\n",
    "\n",
    "        predictions_cnn = np.array(centered_first(img_array)),\n",
    "        predictions_cnn_2 = np.array(centered_second(img_array)),\n",
    "        predictions_LeNet = np.array(centered_third(img_array)),\n",
    "        predictions = (predictions_cnn[0] + predictions_cnn_2[0] + predictions_LeNet[0]) / 3\n",
    "\n",
    "        score = tf.nn.softmax(predictions[0])\n",
    "\n",
    "        if np.argmax(score) == 1:\n",
    "          path_splited = path.split('_')\n",
    "          detected_points.append(int(path_splited[1]))"
   ],
   "metadata": {
    "collapsed": false
   }
  },
  {
   "cell_type": "markdown",
   "source": [
    "# Create samples from crosses of detected translocations on main diagonal"
   ],
   "metadata": {
    "collapsed": false
   }
  },
  {
   "cell_type": "code",
   "execution_count": null,
   "outputs": [],
   "source": [
    "detected_images_path = f'{dataset_path}/detected'\n",
    "if not os.path.exists(detected_images_path):\n",
    "    os.mkdir(detected_images_path)\n",
    "delete_temp_images(detected_images_path)\n",
    "\n",
    "for i in detected_points:\n",
    "    for j in detected_points:\n",
    "        if i == j or i > j:\n",
    "            continue\n",
    "        point = (i//resolution, j//resolution)\n",
    "        point_area = src_matrix[point[1]-10:point[1]+10, point[0]-10:point[0]+10]\n",
    "        plt.imsave(f'{detected_images_path}/{chr}_{i}_{j}.png',  point_area, cmap='gray', vmax=max_value, vmin=min_value)"
   ],
   "metadata": {
    "collapsed": false
   }
  },
  {
   "cell_type": "markdown",
   "source": [
    "# Final detection by samples from whole matrix"
   ],
   "metadata": {
    "collapsed": false
   }
  },
  {
   "cell_type": "code",
   "execution_count": null,
   "outputs": [],
   "source": [
    "with open('data/ab_detected_rearrangements_ensemble_crossed_10.csv', mode='w') as output:\n",
    "    output.write(\"chr,start,end\\n\")\n",
    "    for path in os.listdir(detected_images_path):\n",
    "        img_path = os.path.join(detected_images_path, path)\n",
    "        with tf.device('/device:CPU:0'):\n",
    "            img = tf.keras.utils.load_img(\n",
    "                img_path, target_size=(img_height, img_width)\n",
    "            )\n",
    "            img_array = tf.keras.utils.img_to_array(img)\n",
    "            img_array = tf.expand_dims(img_array, 0) # Create a batch\n",
    "\n",
    "            predictions_cnn = np.array(final_first(img_array)),\n",
    "            predictions_cnn_2 = np.array(final_second(img_array)),\n",
    "            predictions_LeNet = np.array(final_third(img_array)),\n",
    "            predictions = (predictions_cnn[0] + predictions_cnn_2[0] + predictions_LeNet[0]) / 3\n",
    "\n",
    "            score = tf.nn.softmax(predictions[0])\n",
    "\n",
    "            if np.argmax(score) == 1:\n",
    "              path_splited = path.split('_')\n",
    "              output.write(f\"X,{path_splited[1]},{path_splited[2].split('.')[0]}\\n\")"
   ],
   "metadata": {
    "collapsed": false
   }
  },
  {
   "cell_type": "markdown",
   "source": [
    "# Visualising results"
   ],
   "metadata": {
    "collapsed": false
   }
  },
  {
   "cell_type": "code",
   "execution_count": null,
   "outputs": [],
   "source": [
    "fig = plt.figure()\n",
    "ax = fig.add_subplot(111)\n",
    "im = ax.matshow(np.log10(matrix+1), cmap='Greens')\n",
    "fig.colorbar(im)\n",
    "\n",
    "trans = pd.read_csv('data/ab_detected_rearrangements_ensemble_crossed_10.csv')\n",
    "trans['start_res'] = trans.start // resolution\n",
    "trans['end_res'] = trans.end // resolution\n",
    "plt.scatter(trans.start_res, trans.end_res,s=0.1, c='#E9967A')\n",
    "plt.savefig('ab_trans_center_unbalanced_crossed_10k.png', dpi=1000)"
   ],
   "metadata": {
    "collapsed": false
   }
  }
 ],
 "metadata": {
  "kernelspec": {
   "display_name": "Python 3",
   "language": "python",
   "name": "python3"
  },
  "language_info": {
   "codemirror_mode": {
    "name": "ipython",
    "version": 2
   },
   "file_extension": ".py",
   "mimetype": "text/x-python",
   "name": "python",
   "nbconvert_exporter": "python",
   "pygments_lexer": "ipython2",
   "version": "2.7.6"
  }
 },
 "nbformat": 4,
 "nbformat_minor": 0
}
