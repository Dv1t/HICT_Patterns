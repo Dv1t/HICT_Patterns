{
 "cells": [
  {
   "cell_type": "code",
   "execution_count": 1,
   "metadata": {
    "collapsed": true,
    "ExecuteTime": {
     "end_time": "2023-07-30T15:30:55.505438700Z",
     "start_time": "2023-07-30T15:30:51.840930Z"
    }
   },
   "outputs": [
    {
     "name": "stdout",
     "output_type": "stream",
     "text": [
      "[PhysicalDevice(name='/physical_device:CPU:0', device_type='CPU')]\n"
     ]
    }
   ],
   "source": [
    "import tensorflow as tf\n",
    "from tensorflow import keras\n",
    "import pathlib\n",
    "from keras.models import Sequential\n",
    "from keras.layers import Dense, Dropout, Flatten, Conv2D, MaxPooling2D,AveragePooling2D\n",
    "from keras.layers import BatchNormalization\n",
    "from keras.callbacks import LearningRateScheduler,ReduceLROnPlateau\n",
    "from keras.optimizers import Adam\n",
    "from keras import Model, Input\n",
    "from keras.layers import Average\n",
    "from typing import List\n",
    "from keras.utils.version_utils import training\n",
    "\n",
    "\n",
    "print(tf.config.list_physical_devices('CPU'))"
   ]
  },
  {
   "cell_type": "markdown",
   "source": [
    "# Загрузка датасета и связанных гиперпараметров"
   ],
   "metadata": {
    "collapsed": false
   }
  },
  {
   "cell_type": "code",
   "execution_count": 3,
   "outputs": [],
   "source": [
    "data_dir = pathlib.Path('datasets/images_center_10')"
   ],
   "metadata": {
    "collapsed": false,
    "ExecuteTime": {
     "end_time": "2023-07-30T15:34:03.877152400Z",
     "start_time": "2023-07-30T15:34:03.845383600Z"
    }
   }
  },
  {
   "cell_type": "code",
   "execution_count": 4,
   "outputs": [],
   "source": [
    "batch_size = 32\n",
    "img_height = 20\n",
    "img_width = 20\n",
    "num_classes = 2"
   ],
   "metadata": {
    "collapsed": false,
    "ExecuteTime": {
     "end_time": "2023-07-30T15:34:04.299303400Z",
     "start_time": "2023-07-30T15:34:04.295087600Z"
    }
   }
  },
  {
   "cell_type": "code",
   "execution_count": 47,
   "outputs": [
    {
     "name": "stdout",
     "output_type": "stream",
     "text": [
      "Found 5804 files belonging to 2 classes.\n",
      "Using 4644 files for training.\n"
     ]
    }
   ],
   "source": [
    "with tf.device('/device:CPU:0'):\n",
    "  train_ds = tf.keras.utils.image_dataset_from_directory(\n",
    "    data_dir,\n",
    "    validation_split=0.2,\n",
    "    subset=\"training\",\n",
    "    seed=123,\n",
    "    image_size=(img_height, img_width),\n",
    "    batch_size=batch_size)"
   ],
   "metadata": {
    "collapsed": false,
    "ExecuteTime": {
     "end_time": "2023-07-26T14:15:44.621693600Z",
     "start_time": "2023-07-26T14:15:44.291913700Z"
    }
   }
  },
  {
   "cell_type": "code",
   "execution_count": 48,
   "outputs": [
    {
     "name": "stdout",
     "output_type": "stream",
     "text": [
      "Found 5804 files belonging to 2 classes.\n",
      "Using 1160 files for validation.\n"
     ]
    }
   ],
   "source": [
    "with tf.device('/device:CPU:0'):\n",
    "  val_ds = tf.keras.utils.image_dataset_from_directory(\n",
    "    data_dir,\n",
    "    validation_split=0.2,\n",
    "    subset=\"validation\",\n",
    "    seed=123,\n",
    "    image_size=(img_height, img_width),\n",
    "    batch_size=batch_size)"
   ],
   "metadata": {
    "collapsed": false,
    "ExecuteTime": {
     "end_time": "2023-07-26T14:15:45.391704700Z",
     "start_time": "2023-07-26T14:15:45.061503Z"
    }
   }
  },
  {
   "cell_type": "code",
   "execution_count": 49,
   "outputs": [
    {
     "name": "stdout",
     "output_type": "stream",
     "text": [
      "['negative', 'positive']\n"
     ]
    }
   ],
   "source": [
    "class_names = train_ds.class_names\n",
    "print(class_names)"
   ],
   "metadata": {
    "collapsed": false,
    "ExecuteTime": {
     "end_time": "2023-07-26T14:15:45.996725Z",
     "start_time": "2023-07-26T14:15:45.981471500Z"
    }
   }
  },
  {
   "cell_type": "code",
   "execution_count": 50,
   "outputs": [],
   "source": [
    "with tf.device('/device:CPU:0'):\n",
    "  AUTOTUNE = tf.data.AUTOTUNE\n",
    "\n",
    "  train_ds = train_ds.cache().shuffle(1000).prefetch(buffer_size=AUTOTUNE)\n",
    "  val_ds = val_ds.cache().prefetch(buffer_size=AUTOTUNE)"
   ],
   "metadata": {
    "collapsed": false,
    "ExecuteTime": {
     "end_time": "2023-07-26T14:15:46.572711Z",
     "start_time": "2023-07-26T14:15:46.546661Z"
    }
   }
  },
  {
   "cell_type": "markdown",
   "source": [
    "# Определение моделей и методов для работы с ними"
   ],
   "metadata": {
    "collapsed": false
   }
  },
  {
   "cell_type": "code",
   "execution_count": 5,
   "outputs": [],
   "source": [
    "def create_model_cnn(input_shape=(img_height, img_width), num_classes=num_classes):\n",
    "  model = Sequential([\n",
    "  keras.layers.Rescaling(1./255, input_shape=(img_height, img_width, 3), name='rescaling_1_1'),\n",
    "  keras.layers.Conv2D(16, 3, padding='same', activation='relu'),\n",
    "  keras.layers.MaxPooling2D(),\n",
    "  keras.layers.Conv2D(32, 3, padding='same', activation='relu'),\n",
    "  keras.layers.MaxPooling2D(),\n",
    "  keras.layers.Conv2D(64, 3, padding='same', activation='relu'),\n",
    "  keras.layers.MaxPooling2D(),\n",
    "  keras.layers.Dropout(0.2),\n",
    "  keras.layers.Flatten(),\n",
    "  keras.layers.Dense(128, activation='relu'),\n",
    "  keras.layers.Dense(num_classes)\n",
    "  ])\n",
    "  model.compile(optimizer='adam',\n",
    "                loss=tf.keras.losses.SparseCategoricalCrossentropy(from_logits=True),\n",
    "                metrics=['accuracy'])\n",
    "  return model"
   ],
   "metadata": {
    "collapsed": false,
    "ExecuteTime": {
     "end_time": "2023-07-30T15:34:08.144446100Z",
     "start_time": "2023-07-30T15:34:08.132457400Z"
    }
   }
  },
  {
   "cell_type": "code",
   "execution_count": 6,
   "outputs": [],
   "source": [
    "def create_model_cnn_2(input_shape=(img_height, img_width), num_classes=num_classes):\n",
    "    model = Sequential()\n",
    "    model.add(keras.layers.Rescaling(1./255, input_shape=(img_height, img_width, 3), name='rescaling_2_1'))\n",
    "    model.add(Conv2D(32, kernel_size = (3,3), activation='relu', input_shape = input_shape))\n",
    "    model.add(BatchNormalization())\n",
    "    model.add(Conv2D(32, kernel_size = (3,3), activation='relu'))\n",
    "    model.add(BatchNormalization())\n",
    "    model.add(Conv2D(32, kernel_size = (5,5), strides=2, padding='same', activation='relu'))\n",
    "    model.add(BatchNormalization())\n",
    "    model.add(Dropout(0.4))\n",
    "    model.add(Conv2D(64, kernel_size = (3,3), activation='relu'))\n",
    "    model.add(BatchNormalization())\n",
    "    model.add(Conv2D(64, kernel_size = (3,3), activation='relu'))\n",
    "    model.add(BatchNormalization())\n",
    "    model.add(Conv2D(64, kernel_size = (3,3), padding='same', activation='relu'))\n",
    "    model.add(BatchNormalization())\n",
    "    model.add(Dropout(0.4))\n",
    "    model.add(Conv2D(128, kernel_size = 3, activation='relu'))\n",
    "    model.add(BatchNormalization())\n",
    "    model.add(Flatten())\n",
    "    model.add(Dense(num_classes, activation = \"sigmoid\"))\n",
    "    model.compile(optimizer = 'adam' , loss=tf.keras.losses.SparseCategoricalCrossentropy(from_logits=True), metrics=[\"accuracy\"])\n",
    "    return model"
   ],
   "metadata": {
    "collapsed": false,
    "ExecuteTime": {
     "end_time": "2023-07-30T15:34:08.525923400Z",
     "start_time": "2023-07-30T15:34:08.508929500Z"
    }
   }
  },
  {
   "cell_type": "code",
   "execution_count": 7,
   "outputs": [],
   "source": [
    "def create_LeNet5(input_shape=(img_height, img_width), num_classes=num_classes):\n",
    "    model = Sequential()\n",
    "    model.add(keras.layers.Rescaling(1./255, input_shape=(img_height, img_width, 3), name='rescaling_3_1'))\n",
    "    model.add(Conv2D(6, kernel_size=(5, 5), strides=(1, 1), activation='relu', input_shape=input_shape, padding=\"same\"))\n",
    "    model.add(AveragePooling2D(pool_size=(2, 2), strides=(1, 1), padding='valid'))\n",
    "    model.add(Conv2D(16, kernel_size=(5, 5), strides=(1, 1), activation='relu', padding='valid'))\n",
    "    model.add(AveragePooling2D(pool_size=(2, 2), strides=(2, 2), padding='valid'))\n",
    "    model.add(Conv2D(120, kernel_size=(5, 5), strides=(1, 1), activation='relu', padding='valid'))\n",
    "    model.add(Flatten())\n",
    "    model.add(Dense(84, activation='relu'))\n",
    "    model.add(Dense(num_classes, activation='sigmoid'))\n",
    "    model.compile(optimizer =  'adam' , loss=tf.keras.losses.SparseCategoricalCrossentropy(from_logits=True), metrics=[\"accuracy\"])\n",
    "    return model"
   ],
   "metadata": {
    "collapsed": false,
    "ExecuteTime": {
     "end_time": "2023-07-30T15:34:09.060378800Z",
     "start_time": "2023-07-30T15:34:09.044707800Z"
    }
   }
  },
  {
   "cell_type": "code",
   "execution_count": 22,
   "outputs": [],
   "source": [
    "def train_model(model, epochs):\n",
    "    with tf.device('/device:CPU:0'):\n",
    "        history = model.fit(\n",
    "        train_ds,\n",
    "        validation_data=val_ds,\n",
    "        epochs=epochs)\n",
    "        return history"
   ],
   "metadata": {
    "collapsed": false,
    "ExecuteTime": {
     "end_time": "2023-07-30T14:22:55.695103300Z",
     "start_time": "2023-07-30T14:22:55.679073900Z"
    }
   }
  },
  {
   "cell_type": "markdown",
   "source": [
    "# Создание моделей"
   ],
   "metadata": {
    "collapsed": false
   }
  },
  {
   "cell_type": "code",
   "execution_count": 8,
   "outputs": [],
   "source": [
    "model_cnn = create_model_cnn()\n",
    "model_cnn_2 = create_model_cnn_2()\n",
    "model_LeNet = create_LeNet5()"
   ],
   "metadata": {
    "collapsed": false,
    "ExecuteTime": {
     "end_time": "2023-07-30T15:34:12.164775500Z",
     "start_time": "2023-07-30T15:34:11.674441900Z"
    }
   }
  },
  {
   "cell_type": "markdown",
   "source": [
    "# Обучение"
   ],
   "metadata": {
    "collapsed": false
   }
  },
  {
   "cell_type": "code",
   "execution_count": 53,
   "outputs": [
    {
     "name": "stdout",
     "output_type": "stream",
     "text": [
      "Epoch 1/30\n",
      "146/146 [==============================] - 3s 11ms/step - loss: 0.1112 - accuracy: 0.9658 - val_loss: 0.0316 - val_accuracy: 0.9922\n",
      "Epoch 2/30\n",
      "146/146 [==============================] - 1s 8ms/step - loss: 0.0301 - accuracy: 0.9922 - val_loss: 0.0368 - val_accuracy: 0.9836\n",
      "Epoch 3/30\n",
      "146/146 [==============================] - 1s 8ms/step - loss: 0.0270 - accuracy: 0.9929 - val_loss: 0.0251 - val_accuracy: 0.9922\n",
      "Epoch 4/30\n",
      "146/146 [==============================] - 1s 8ms/step - loss: 0.0232 - accuracy: 0.9935 - val_loss: 0.0184 - val_accuracy: 0.9948\n",
      "Epoch 5/30\n",
      "146/146 [==============================] - 1s 9ms/step - loss: 0.0199 - accuracy: 0.9944 - val_loss: 0.0153 - val_accuracy: 0.9957\n",
      "Epoch 6/30\n",
      "146/146 [==============================] - 1s 8ms/step - loss: 0.0158 - accuracy: 0.9959 - val_loss: 0.0143 - val_accuracy: 0.9974\n",
      "Epoch 7/30\n",
      "146/146 [==============================] - 1s 8ms/step - loss: 0.0157 - accuracy: 0.9963 - val_loss: 0.0146 - val_accuracy: 0.9974\n",
      "Epoch 8/30\n",
      "146/146 [==============================] - 1s 8ms/step - loss: 0.0119 - accuracy: 0.9981 - val_loss: 0.0206 - val_accuracy: 0.9914\n",
      "Epoch 9/30\n",
      "146/146 [==============================] - 1s 10ms/step - loss: 0.0115 - accuracy: 0.9978 - val_loss: 0.0147 - val_accuracy: 0.9957\n",
      "Epoch 10/30\n",
      "146/146 [==============================] - 2s 11ms/step - loss: 0.0144 - accuracy: 0.9970 - val_loss: 0.0113 - val_accuracy: 0.9974\n",
      "Epoch 11/30\n",
      "146/146 [==============================] - 2s 11ms/step - loss: 0.0089 - accuracy: 0.9985 - val_loss: 0.0084 - val_accuracy: 0.9991\n",
      "Epoch 12/30\n",
      "146/146 [==============================] - 2s 11ms/step - loss: 0.0120 - accuracy: 0.9978 - val_loss: 0.0142 - val_accuracy: 0.9974\n",
      "Epoch 13/30\n",
      "146/146 [==============================] - 2s 11ms/step - loss: 0.0098 - accuracy: 0.9981 - val_loss: 0.0109 - val_accuracy: 0.9966\n",
      "Epoch 14/30\n",
      "146/146 [==============================] - 2s 11ms/step - loss: 0.0111 - accuracy: 0.9978 - val_loss: 0.0163 - val_accuracy: 0.9966\n",
      "Epoch 15/30\n",
      "146/146 [==============================] - 2s 11ms/step - loss: 0.0073 - accuracy: 0.9989 - val_loss: 0.0097 - val_accuracy: 0.9983\n",
      "Epoch 16/30\n",
      "146/146 [==============================] - 2s 11ms/step - loss: 0.0087 - accuracy: 0.9987 - val_loss: 0.0217 - val_accuracy: 0.9948\n",
      "Epoch 17/30\n",
      "146/146 [==============================] - 2s 11ms/step - loss: 0.0085 - accuracy: 0.9985 - val_loss: 0.0087 - val_accuracy: 0.9974\n",
      "Epoch 18/30\n",
      "146/146 [==============================] - 2s 11ms/step - loss: 0.0051 - accuracy: 0.9989 - val_loss: 0.0119 - val_accuracy: 0.9957\n",
      "Epoch 19/30\n",
      "146/146 [==============================] - 2s 11ms/step - loss: 0.0068 - accuracy: 0.9989 - val_loss: 0.0180 - val_accuracy: 0.9948\n",
      "Epoch 20/30\n",
      "146/146 [==============================] - 2s 12ms/step - loss: 0.0054 - accuracy: 0.9987 - val_loss: 0.0081 - val_accuracy: 0.9966\n",
      "Epoch 21/30\n",
      "146/146 [==============================] - 2s 11ms/step - loss: 0.0046 - accuracy: 0.9985 - val_loss: 0.0102 - val_accuracy: 0.9948\n",
      "Epoch 22/30\n",
      "146/146 [==============================] - 2s 11ms/step - loss: 0.0041 - accuracy: 0.9991 - val_loss: 0.0060 - val_accuracy: 0.9974\n",
      "Epoch 23/30\n",
      "146/146 [==============================] - 1s 9ms/step - loss: 0.0051 - accuracy: 0.9987 - val_loss: 0.1789 - val_accuracy: 0.9664\n",
      "Epoch 24/30\n",
      "146/146 [==============================] - 1s 9ms/step - loss: 0.0155 - accuracy: 0.9961 - val_loss: 0.0340 - val_accuracy: 0.9897\n",
      "Epoch 25/30\n",
      "146/146 [==============================] - 1s 9ms/step - loss: 0.0094 - accuracy: 0.9968 - val_loss: 0.0092 - val_accuracy: 0.9966\n",
      "Epoch 26/30\n",
      "146/146 [==============================] - 1s 9ms/step - loss: 0.0031 - accuracy: 0.9991 - val_loss: 0.0079 - val_accuracy: 0.9966\n",
      "Epoch 27/30\n",
      "146/146 [==============================] - 1s 9ms/step - loss: 3.4671e-04 - accuracy: 1.0000 - val_loss: 0.0076 - val_accuracy: 0.9966\n",
      "Epoch 28/30\n",
      "146/146 [==============================] - 1s 9ms/step - loss: 0.0010 - accuracy: 0.9996 - val_loss: 0.0058 - val_accuracy: 0.9974\n",
      "Epoch 29/30\n",
      "146/146 [==============================] - 1s 9ms/step - loss: 0.0105 - accuracy: 0.9974 - val_loss: 0.0200 - val_accuracy: 0.9948\n",
      "Epoch 30/30\n",
      "146/146 [==============================] - 1s 9ms/step - loss: 0.0056 - accuracy: 0.9991 - val_loss: 0.0073 - val_accuracy: 0.9974\n"
     ]
    }
   ],
   "source": [
    "history_cnn = train_model(model_cnn, 30)"
   ],
   "metadata": {
    "collapsed": false,
    "ExecuteTime": {
     "end_time": "2023-07-26T14:16:40.186797200Z",
     "start_time": "2023-07-26T14:15:55.337547300Z"
    }
   }
  },
  {
   "cell_type": "code",
   "execution_count": 54,
   "outputs": [
    {
     "name": "stdout",
     "output_type": "stream",
     "text": [
      "Epoch 1/30\n",
      "146/146 [==============================] - 5s 30ms/step - loss: 0.0625 - accuracy: 0.9815 - val_loss: 2.3908 - val_accuracy: 0.4914\n",
      "Epoch 2/30\n",
      "146/146 [==============================] - 5s 31ms/step - loss: 0.0244 - accuracy: 0.9938 - val_loss: 1.1074 - val_accuracy: 0.5793\n",
      "Epoch 3/30\n",
      "146/146 [==============================] - 5s 31ms/step - loss: 0.0264 - accuracy: 0.9910 - val_loss: 0.0830 - val_accuracy: 0.9716\n",
      "Epoch 4/30\n",
      "146/146 [==============================] - 4s 30ms/step - loss: 0.0220 - accuracy: 0.9931 - val_loss: 0.0173 - val_accuracy: 0.9922\n",
      "Epoch 5/30\n",
      "146/146 [==============================] - 4s 30ms/step - loss: 0.0163 - accuracy: 0.9942 - val_loss: 0.0189 - val_accuracy: 0.9957\n",
      "Epoch 6/30\n",
      "146/146 [==============================] - 4s 30ms/step - loss: 0.0145 - accuracy: 0.9946 - val_loss: 0.0328 - val_accuracy: 0.9888\n",
      "Epoch 7/30\n",
      "146/146 [==============================] - 4s 30ms/step - loss: 0.0131 - accuracy: 0.9950 - val_loss: 0.0088 - val_accuracy: 0.9966\n",
      "Epoch 8/30\n",
      "146/146 [==============================] - 4s 31ms/step - loss: 0.0140 - accuracy: 0.9950 - val_loss: 0.0353 - val_accuracy: 0.9853\n",
      "Epoch 9/30\n",
      "146/146 [==============================] - 4s 31ms/step - loss: 0.0099 - accuracy: 0.9963 - val_loss: 0.0101 - val_accuracy: 0.9957\n",
      "Epoch 10/30\n",
      "146/146 [==============================] - 4s 30ms/step - loss: 0.0033 - accuracy: 0.9987 - val_loss: 0.0042 - val_accuracy: 0.9983\n",
      "Epoch 11/30\n",
      "146/146 [==============================] - 4s 31ms/step - loss: 0.0088 - accuracy: 0.9974 - val_loss: 0.4094 - val_accuracy: 0.9164\n",
      "Epoch 12/30\n",
      "146/146 [==============================] - 4s 31ms/step - loss: 0.0127 - accuracy: 0.9959 - val_loss: 0.0115 - val_accuracy: 0.9974\n",
      "Epoch 13/30\n",
      "146/146 [==============================] - 4s 31ms/step - loss: 0.0051 - accuracy: 0.9978 - val_loss: 0.0152 - val_accuracy: 0.9931\n",
      "Epoch 14/30\n",
      "146/146 [==============================] - 4s 31ms/step - loss: 0.0062 - accuracy: 0.9981 - val_loss: 0.0171 - val_accuracy: 0.9957\n",
      "Epoch 15/30\n",
      "146/146 [==============================] - 5s 31ms/step - loss: 0.0093 - accuracy: 0.9968 - val_loss: 0.0280 - val_accuracy: 0.9922\n",
      "Epoch 16/30\n",
      "146/146 [==============================] - 5s 31ms/step - loss: 0.0048 - accuracy: 0.9985 - val_loss: 0.0090 - val_accuracy: 0.9957\n",
      "Epoch 17/30\n",
      "146/146 [==============================] - 5s 31ms/step - loss: 0.0034 - accuracy: 0.9985 - val_loss: 0.0448 - val_accuracy: 0.9828\n",
      "Epoch 18/30\n",
      "146/146 [==============================] - 5s 31ms/step - loss: 0.0083 - accuracy: 0.9970 - val_loss: 0.0301 - val_accuracy: 0.9897\n",
      "Epoch 19/30\n",
      "146/146 [==============================] - 5s 31ms/step - loss: 0.0065 - accuracy: 0.9972 - val_loss: 0.0093 - val_accuracy: 0.9966\n",
      "Epoch 20/30\n",
      "146/146 [==============================] - 5s 32ms/step - loss: 0.0062 - accuracy: 0.9978 - val_loss: 0.0302 - val_accuracy: 0.9897\n",
      "Epoch 21/30\n",
      "146/146 [==============================] - 5s 32ms/step - loss: 0.0154 - accuracy: 0.9948 - val_loss: 0.1887 - val_accuracy: 0.9569\n",
      "Epoch 22/30\n",
      "146/146 [==============================] - 5s 31ms/step - loss: 0.0079 - accuracy: 0.9963 - val_loss: 0.0071 - val_accuracy: 0.9983\n",
      "Epoch 23/30\n",
      "146/146 [==============================] - 5s 31ms/step - loss: 0.0061 - accuracy: 0.9981 - val_loss: 0.0855 - val_accuracy: 0.9819\n",
      "Epoch 24/30\n",
      "146/146 [==============================] - 5s 32ms/step - loss: 0.0050 - accuracy: 0.9989 - val_loss: 0.0146 - val_accuracy: 0.9957\n",
      "Epoch 25/30\n",
      "146/146 [==============================] - 5s 31ms/step - loss: 0.0014 - accuracy: 0.9998 - val_loss: 0.0104 - val_accuracy: 0.9974\n",
      "Epoch 26/30\n",
      "146/146 [==============================] - 5s 32ms/step - loss: 0.0026 - accuracy: 0.9989 - val_loss: 0.0215 - val_accuracy: 0.9957\n",
      "Epoch 27/30\n",
      "146/146 [==============================] - 5s 31ms/step - loss: 0.0030 - accuracy: 0.9989 - val_loss: 0.0143 - val_accuracy: 0.9957\n",
      "Epoch 28/30\n",
      "146/146 [==============================] - 5s 31ms/step - loss: 0.0038 - accuracy: 0.9991 - val_loss: 0.0160 - val_accuracy: 0.9940\n",
      "Epoch 29/30\n",
      "146/146 [==============================] - 5s 32ms/step - loss: 0.0025 - accuracy: 0.9987 - val_loss: 0.0120 - val_accuracy: 0.9966\n",
      "Epoch 30/30\n",
      "146/146 [==============================] - 5s 33ms/step - loss: 0.0060 - accuracy: 0.9974 - val_loss: 0.0145 - val_accuracy: 0.9948\n"
     ]
    }
   ],
   "source": [
    "history_cnn_2 = train_model(model_cnn_2, 30)"
   ],
   "metadata": {
    "collapsed": false,
    "ExecuteTime": {
     "end_time": "2023-07-26T14:18:57.153607700Z",
     "start_time": "2023-07-26T14:16:40.188359700Z"
    }
   }
  },
  {
   "cell_type": "code",
   "execution_count": 55,
   "outputs": [
    {
     "name": "stdout",
     "output_type": "stream",
     "text": [
      "Epoch 1/30\n",
      "146/146 [==============================] - 2s 14ms/step - loss: 0.0881 - accuracy: 0.9714 - val_loss: 0.0549 - val_accuracy: 0.9810\n",
      "Epoch 2/30\n",
      "146/146 [==============================] - 2s 13ms/step - loss: 0.0368 - accuracy: 0.9892 - val_loss: 0.0350 - val_accuracy: 0.9940\n",
      "Epoch 3/30\n",
      "146/146 [==============================] - 2s 12ms/step - loss: 0.0329 - accuracy: 0.9916 - val_loss: 0.0238 - val_accuracy: 0.9914\n",
      "Epoch 4/30\n",
      "146/146 [==============================] - 2s 13ms/step - loss: 0.0279 - accuracy: 0.9931 - val_loss: 0.0316 - val_accuracy: 0.9888\n",
      "Epoch 5/30\n",
      "146/146 [==============================] - 2s 13ms/step - loss: 0.0237 - accuracy: 0.9940 - val_loss: 0.0224 - val_accuracy: 0.9922\n",
      "Epoch 6/30\n",
      "146/146 [==============================] - 2s 14ms/step - loss: 0.0227 - accuracy: 0.9944 - val_loss: 0.0196 - val_accuracy: 0.9931\n",
      "Epoch 7/30\n",
      "146/146 [==============================] - 2s 14ms/step - loss: 0.0211 - accuracy: 0.9959 - val_loss: 0.0197 - val_accuracy: 0.9948\n",
      "Epoch 8/30\n",
      "146/146 [==============================] - 2s 14ms/step - loss: 0.0184 - accuracy: 0.9948 - val_loss: 0.0371 - val_accuracy: 0.9862\n",
      "Epoch 9/30\n",
      "146/146 [==============================] - 2s 14ms/step - loss: 0.0192 - accuracy: 0.9948 - val_loss: 0.0149 - val_accuracy: 0.9940\n",
      "Epoch 10/30\n",
      "146/146 [==============================] - 2s 13ms/step - loss: 0.0159 - accuracy: 0.9959 - val_loss: 0.0211 - val_accuracy: 0.9940\n",
      "Epoch 11/30\n",
      "146/146 [==============================] - 2s 13ms/step - loss: 0.0140 - accuracy: 0.9968 - val_loss: 0.0241 - val_accuracy: 0.9931\n",
      "Epoch 12/30\n",
      "146/146 [==============================] - 2s 13ms/step - loss: 0.0171 - accuracy: 0.9950 - val_loss: 0.0126 - val_accuracy: 0.9974\n",
      "Epoch 13/30\n",
      "146/146 [==============================] - 2s 14ms/step - loss: 0.0143 - accuracy: 0.9955 - val_loss: 0.0194 - val_accuracy: 0.9966\n",
      "Epoch 14/30\n",
      "146/146 [==============================] - 2s 13ms/step - loss: 0.0178 - accuracy: 0.9946 - val_loss: 0.0242 - val_accuracy: 0.9940\n",
      "Epoch 15/30\n",
      "146/146 [==============================] - 2s 13ms/step - loss: 0.0204 - accuracy: 0.9946 - val_loss: 0.0124 - val_accuracy: 0.9966\n",
      "Epoch 16/30\n",
      "146/146 [==============================] - 2s 11ms/step - loss: 0.0144 - accuracy: 0.9974 - val_loss: 0.0101 - val_accuracy: 0.9991\n",
      "Epoch 17/30\n",
      "146/146 [==============================] - 2s 11ms/step - loss: 0.0102 - accuracy: 0.9983 - val_loss: 0.0158 - val_accuracy: 0.9957\n",
      "Epoch 18/30\n",
      "146/146 [==============================] - 2s 12ms/step - loss: 0.0096 - accuracy: 0.9976 - val_loss: 0.0097 - val_accuracy: 0.9974\n",
      "Epoch 19/30\n",
      "146/146 [==============================] - 2s 14ms/step - loss: 0.0102 - accuracy: 0.9974 - val_loss: 0.0114 - val_accuracy: 0.9974\n",
      "Epoch 20/30\n",
      "146/146 [==============================] - 2s 13ms/step - loss: 0.0116 - accuracy: 0.9976 - val_loss: 0.0141 - val_accuracy: 0.9948\n",
      "Epoch 21/30\n",
      "146/146 [==============================] - 2s 13ms/step - loss: 0.0101 - accuracy: 0.9974 - val_loss: 0.0122 - val_accuracy: 0.9974\n",
      "Epoch 22/30\n",
      "146/146 [==============================] - 2s 13ms/step - loss: 0.0080 - accuracy: 0.9987 - val_loss: 0.0095 - val_accuracy: 0.9983\n",
      "Epoch 23/30\n",
      "146/146 [==============================] - 2s 13ms/step - loss: 0.0105 - accuracy: 0.9974 - val_loss: 0.0145 - val_accuracy: 0.9966\n",
      "Epoch 24/30\n",
      "146/146 [==============================] - 2s 13ms/step - loss: 0.0075 - accuracy: 0.9983 - val_loss: 0.0506 - val_accuracy: 0.9914\n",
      "Epoch 25/30\n",
      "146/146 [==============================] - 2s 13ms/step - loss: 0.0118 - accuracy: 0.9976 - val_loss: 0.0140 - val_accuracy: 0.9974\n",
      "Epoch 26/30\n",
      "146/146 [==============================] - 2s 13ms/step - loss: 0.0106 - accuracy: 0.9963 - val_loss: 0.0211 - val_accuracy: 0.9940\n",
      "Epoch 27/30\n",
      "146/146 [==============================] - 2s 13ms/step - loss: 0.0082 - accuracy: 0.9983 - val_loss: 0.0103 - val_accuracy: 0.9983\n",
      "Epoch 28/30\n",
      "146/146 [==============================] - 2s 13ms/step - loss: 0.0071 - accuracy: 0.9985 - val_loss: 0.0129 - val_accuracy: 0.9957\n",
      "Epoch 29/30\n",
      "146/146 [==============================] - 2s 13ms/step - loss: 0.0102 - accuracy: 0.9968 - val_loss: 0.0200 - val_accuracy: 0.9966\n",
      "Epoch 30/30\n",
      "146/146 [==============================] - 2s 13ms/step - loss: 0.0130 - accuracy: 0.9974 - val_loss: 0.0135 - val_accuracy: 0.9966\n"
     ]
    }
   ],
   "source": [
    "history_LeNet = train_model(model_LeNet, 30)"
   ],
   "metadata": {
    "collapsed": false,
    "ExecuteTime": {
     "end_time": "2023-07-26T14:19:55.172668800Z",
     "start_time": "2023-07-26T14:18:57.155603500Z"
    }
   }
  },
  {
   "cell_type": "code",
   "execution_count": 56,
   "outputs": [],
   "source": [
    "model_cnn.save_weights('checkpoints/model_cnn_weights/checkpoint_cpu')\n",
    "model_cnn_2.save_weights('checkpoints/model_cnn_2_weights/checkpoint_cpu')\n",
    "model_LeNet.save_weights('checkpoints/model_LeNet_weights/checkpoint_cpu')"
   ],
   "metadata": {
    "collapsed": false,
    "ExecuteTime": {
     "end_time": "2023-07-26T14:23:12.131328800Z",
     "start_time": "2023-07-26T14:23:11.996598100Z"
    }
   }
  },
  {
   "cell_type": "markdown",
   "source": [
    "# Загрузка сохранённых моделей"
   ],
   "metadata": {
    "collapsed": false
   }
  },
  {
   "cell_type": "code",
   "execution_count": 10,
   "outputs": [
    {
     "data": {
      "text/plain": "<tensorflow.python.checkpoint.checkpoint.CheckpointLoadStatus at 0x125bf514790>"
     },
     "execution_count": 10,
     "metadata": {},
     "output_type": "execute_result"
    }
   ],
   "source": [
    "model_cnn.load_weights('D:/Study/HICT/HICT_Patterns/checkpoints/model_cnn_weights/checkpoint_cpu')\n",
    "model_cnn_2.load_weights('D:/Study/HICT/HICT_Patterns/checkpoints/model_cnn_2_weights/checkpoint_cpu')\n",
    "model_LeNet.load_weights('D:/Study/HICT/HICT_Patterns/checkpoints/model_LeNet_weights/checkpoint_cpu')"
   ],
   "metadata": {
    "collapsed": false,
    "ExecuteTime": {
     "end_time": "2023-07-30T15:35:03.881638900Z",
     "start_time": "2023-07-30T15:35:03.712780600Z"
    }
   }
  },
  {
   "cell_type": "markdown",
   "source": [
    "# Создание и обучение моделей для определения вне главной диагонали"
   ],
   "metadata": {
    "collapsed": false
   }
  },
  {
   "cell_type": "code",
   "execution_count": 19,
   "outputs": [
    {
     "name": "stdout",
     "output_type": "stream",
     "text": [
      "Found 2732 files belonging to 2 classes.\n",
      "Using 2186 files for training.\n",
      "Found 2732 files belonging to 2 classes.\n",
      "Using 546 files for validation.\n"
     ]
    }
   ],
   "source": [
    "data_dir = pathlib.Path('datasets/images_10')\n",
    "\n",
    "with tf.device('/device:CPU:0'):\n",
    "  train_ds = tf.keras.utils.image_dataset_from_directory(\n",
    "    data_dir,\n",
    "    validation_split=0.2,\n",
    "    subset=\"training\",\n",
    "    seed=123,\n",
    "    image_size=(img_height, img_width),\n",
    "    batch_size=batch_size)\n",
    "\n",
    "  val_ds = tf.keras.utils.image_dataset_from_directory(\n",
    "    data_dir,\n",
    "    validation_split=0.2,\n",
    "    subset=\"validation\",\n",
    "    seed=123,\n",
    "    image_size=(img_height, img_width),\n",
    "    batch_size=batch_size)\n",
    "\n",
    "  AUTOTUNE = tf.data.AUTOTUNE\n",
    "  train_ds = train_ds.cache().shuffle(1000).prefetch(buffer_size=AUTOTUNE)\n",
    "  val_ds = val_ds.cache().prefetch(buffer_size=AUTOTUNE)"
   ],
   "metadata": {
    "collapsed": false,
    "ExecuteTime": {
     "end_time": "2023-07-30T14:22:44.176829300Z",
     "start_time": "2023-07-30T14:22:43.237597800Z"
    }
   }
  },
  {
   "cell_type": "code",
   "execution_count": 11,
   "outputs": [],
   "source": [
    "model_cnn_uncentered = create_model_cnn()\n",
    "model_cnn_2_uncentered = create_model_cnn_2()\n",
    "model_LeNet_uncentered = create_LeNet5()"
   ],
   "metadata": {
    "collapsed": false,
    "ExecuteTime": {
     "end_time": "2023-07-30T15:35:12.379002700Z",
     "start_time": "2023-07-30T15:35:12.199727Z"
    }
   }
  },
  {
   "cell_type": "code",
   "execution_count": 23,
   "outputs": [
    {
     "name": "stdout",
     "output_type": "stream",
     "text": [
      "Epoch 1/30\n",
      "69/69 [==============================] - 2s 9ms/step - loss: 0.0370 - accuracy: 0.9881 - val_loss: 1.6069e-07 - val_accuracy: 1.0000\n",
      "Epoch 2/30\n",
      "69/69 [==============================] - 1s 8ms/step - loss: 4.4247e-07 - accuracy: 1.0000 - val_loss: 1.4584e-07 - val_accuracy: 1.0000\n",
      "Epoch 3/30\n",
      "69/69 [==============================] - 1s 7ms/step - loss: 3.8832e-07 - accuracy: 1.0000 - val_loss: 1.4082e-07 - val_accuracy: 1.0000\n",
      "Epoch 4/30\n",
      "69/69 [==============================] - 1s 8ms/step - loss: 5.6046e-07 - accuracy: 1.0000 - val_loss: 1.3405e-07 - val_accuracy: 1.0000\n",
      "Epoch 5/30\n",
      "69/69 [==============================] - 1s 8ms/step - loss: 4.9838e-07 - accuracy: 1.0000 - val_loss: 1.2598e-07 - val_accuracy: 1.0000\n",
      "Epoch 6/30\n",
      "69/69 [==============================] - 1s 9ms/step - loss: 4.5218e-07 - accuracy: 1.0000 - val_loss: 1.1855e-07 - val_accuracy: 1.0000\n",
      "Epoch 7/30\n",
      "69/69 [==============================] - 1s 9ms/step - loss: 3.9030e-07 - accuracy: 1.0000 - val_loss: 1.1091e-07 - val_accuracy: 1.0000\n",
      "Epoch 8/30\n",
      "69/69 [==============================] - 1s 9ms/step - loss: 4.9151e-07 - accuracy: 1.0000 - val_loss: 1.0502e-07 - val_accuracy: 1.0000\n",
      "Epoch 9/30\n",
      "69/69 [==============================] - 1s 10ms/step - loss: 3.3959e-07 - accuracy: 1.0000 - val_loss: 9.4973e-08 - val_accuracy: 1.0000\n",
      "Epoch 10/30\n",
      "69/69 [==============================] - 1s 10ms/step - loss: 2.3710e-07 - accuracy: 1.0000 - val_loss: 8.9733e-08 - val_accuracy: 1.0000\n",
      "Epoch 11/30\n",
      "69/69 [==============================] - 1s 10ms/step - loss: 2.2821e-07 - accuracy: 1.0000 - val_loss: 8.6240e-08 - val_accuracy: 1.0000\n",
      "Epoch 12/30\n",
      "69/69 [==============================] - 1s 10ms/step - loss: 3.7131e-07 - accuracy: 1.0000 - val_loss: 7.8380e-08 - val_accuracy: 1.0000\n",
      "Epoch 13/30\n",
      "69/69 [==============================] - 1s 10ms/step - loss: 3.5783e-07 - accuracy: 1.0000 - val_loss: 7.1612e-08 - val_accuracy: 1.0000\n",
      "Epoch 14/30\n",
      "69/69 [==============================] - 1s 10ms/step - loss: 2.3023e-07 - accuracy: 1.0000 - val_loss: 6.5281e-08 - val_accuracy: 1.0000\n",
      "Epoch 15/30\n",
      "69/69 [==============================] - 1s 10ms/step - loss: 1.6986e-07 - accuracy: 1.0000 - val_loss: 6.2224e-08 - val_accuracy: 1.0000\n",
      "Epoch 16/30\n",
      "69/69 [==============================] - 1s 9ms/step - loss: 2.1163e-07 - accuracy: 1.0000 - val_loss: 5.7202e-08 - val_accuracy: 1.0000\n",
      "Epoch 17/30\n",
      "69/69 [==============================] - 1s 9ms/step - loss: 1.8513e-07 - accuracy: 1.0000 - val_loss: 5.3709e-08 - val_accuracy: 1.0000\n",
      "Epoch 18/30\n",
      "69/69 [==============================] - 1s 10ms/step - loss: 2.0023e-07 - accuracy: 1.0000 - val_loss: 4.9343e-08 - val_accuracy: 1.0000\n",
      "Epoch 19/30\n",
      "69/69 [==============================] - 1s 10ms/step - loss: 1.4865e-07 - accuracy: 1.0000 - val_loss: 4.6504e-08 - val_accuracy: 1.0000\n",
      "Epoch 20/30\n",
      "69/69 [==============================] - 1s 10ms/step - loss: 2.1113e-07 - accuracy: 1.0000 - val_loss: 4.1701e-08 - val_accuracy: 1.0000\n",
      "Epoch 21/30\n",
      "69/69 [==============================] - 1s 9ms/step - loss: 1.1435e-07 - accuracy: 1.0000 - val_loss: 3.9736e-08 - val_accuracy: 1.0000\n",
      "Epoch 22/30\n",
      "69/69 [==============================] - 1s 10ms/step - loss: 1.6468e-07 - accuracy: 1.0000 - val_loss: 3.6025e-08 - val_accuracy: 1.0000\n",
      "Epoch 23/30\n",
      "69/69 [==============================] - 1s 10ms/step - loss: 2.2923e-07 - accuracy: 1.0000 - val_loss: 3.2313e-08 - val_accuracy: 1.0000\n",
      "Epoch 24/30\n",
      "69/69 [==============================] - 1s 10ms/step - loss: 2.2486e-07 - accuracy: 1.0000 - val_loss: 2.7510e-08 - val_accuracy: 1.0000\n",
      "Epoch 25/30\n",
      "69/69 [==============================] - 1s 10ms/step - loss: 9.5920e-08 - accuracy: 1.0000 - val_loss: 2.5763e-08 - val_accuracy: 1.0000\n",
      "Epoch 26/30\n",
      "69/69 [==============================] - 1s 10ms/step - loss: 6.4783e-08 - accuracy: 1.0000 - val_loss: 2.4235e-08 - val_accuracy: 1.0000\n",
      "Epoch 27/30\n",
      "69/69 [==============================] - 1s 10ms/step - loss: 7.7434e-08 - accuracy: 1.0000 - val_loss: 2.2925e-08 - val_accuracy: 1.0000\n",
      "Epoch 28/30\n",
      "69/69 [==============================] - 1s 10ms/step - loss: 9.2649e-08 - accuracy: 1.0000 - val_loss: 2.1178e-08 - val_accuracy: 1.0000\n",
      "Epoch 29/30\n",
      "69/69 [==============================] - 1s 10ms/step - loss: 4.1608e-08 - accuracy: 1.0000 - val_loss: 2.0086e-08 - val_accuracy: 1.0000\n",
      "Epoch 30/30\n",
      "69/69 [==============================] - 1s 10ms/step - loss: 1.1996e-07 - accuracy: 1.0000 - val_loss: 1.8558e-08 - val_accuracy: 1.0000\n"
     ]
    }
   ],
   "source": [
    "history_cnn_uncentered = train_model(model_cnn_uncentered, 30)"
   ],
   "metadata": {
    "collapsed": false,
    "ExecuteTime": {
     "end_time": "2023-07-30T14:23:23.283563500Z",
     "start_time": "2023-07-30T14:23:02.138727900Z"
    }
   }
  },
  {
   "cell_type": "code",
   "execution_count": 24,
   "outputs": [
    {
     "name": "stdout",
     "output_type": "stream",
     "text": [
      "Epoch 1/30\n"
     ]
    },
    {
     "name": "stderr",
     "output_type": "stream",
     "text": [
      "C:\\Users\\vit\\.conda\\envs\\HICT\\lib\\site-packages\\keras\\backend.py:5582: UserWarning: \"`sparse_categorical_crossentropy` received `from_logits=True`, but the `output` argument was produced by a Softmax activation and thus does not represent logits. Was this intended?\n",
      "  output, from_logits = _get_logits(\n"
     ]
    },
    {
     "name": "stdout",
     "output_type": "stream",
     "text": [
      "69/69 [==============================] - 3s 27ms/step - loss: 0.0242 - accuracy: 0.9886 - val_loss: 0.0223 - val_accuracy: 1.0000\n",
      "Epoch 2/30\n",
      "69/69 [==============================] - 2s 27ms/step - loss: 1.1490e-04 - accuracy: 1.0000 - val_loss: 0.0013 - val_accuracy: 1.0000\n",
      "Epoch 3/30\n",
      "69/69 [==============================] - 2s 28ms/step - loss: 4.4680e-05 - accuracy: 1.0000 - val_loss: 1.9045e-04 - val_accuracy: 1.0000\n",
      "Epoch 4/30\n",
      "69/69 [==============================] - 2s 26ms/step - loss: 3.0128e-05 - accuracy: 1.0000 - val_loss: 4.6225e-05 - val_accuracy: 1.0000\n",
      "Epoch 5/30\n",
      "69/69 [==============================] - 2s 29ms/step - loss: 2.2663e-05 - accuracy: 1.0000 - val_loss: 1.2205e-05 - val_accuracy: 1.0000\n",
      "Epoch 6/30\n",
      "69/69 [==============================] - 2s 30ms/step - loss: 2.5964e-05 - accuracy: 1.0000 - val_loss: 4.0743e-06 - val_accuracy: 1.0000\n",
      "Epoch 7/30\n",
      "69/69 [==============================] - 2s 28ms/step - loss: 3.3214e-05 - accuracy: 1.0000 - val_loss: 2.0687e-06 - val_accuracy: 1.0000\n",
      "Epoch 8/30\n",
      "69/69 [==============================] - 2s 27ms/step - loss: 1.0514e-05 - accuracy: 1.0000 - val_loss: 1.1515e-06 - val_accuracy: 1.0000\n",
      "Epoch 9/30\n",
      "69/69 [==============================] - 2s 28ms/step - loss: 1.0433e-05 - accuracy: 1.0000 - val_loss: 7.4342e-07 - val_accuracy: 1.0000\n",
      "Epoch 10/30\n",
      "69/69 [==============================] - 2s 28ms/step - loss: 7.6625e-06 - accuracy: 1.0000 - val_loss: 6.2551e-07 - val_accuracy: 1.0000\n",
      "Epoch 11/30\n",
      "69/69 [==============================] - 2s 29ms/step - loss: 6.5869e-06 - accuracy: 1.0000 - val_loss: 5.3774e-07 - val_accuracy: 1.0000\n",
      "Epoch 12/30\n",
      "69/69 [==============================] - 2s 30ms/step - loss: 6.5089e-06 - accuracy: 1.0000 - val_loss: 4.9473e-07 - val_accuracy: 1.0000\n",
      "Epoch 13/30\n",
      "69/69 [==============================] - 2s 28ms/step - loss: 5.5517e-06 - accuracy: 1.0000 - val_loss: 4.4605e-07 - val_accuracy: 1.0000\n",
      "Epoch 14/30\n",
      "69/69 [==============================] - 2s 29ms/step - loss: 6.1086e-06 - accuracy: 1.0000 - val_loss: 4.1701e-07 - val_accuracy: 1.0000\n",
      "Epoch 15/30\n",
      "69/69 [==============================] - 2s 28ms/step - loss: 4.4825e-06 - accuracy: 1.0000 - val_loss: 3.6876e-07 - val_accuracy: 1.0000\n",
      "Epoch 16/30\n",
      "69/69 [==============================] - 2s 30ms/step - loss: 5.4456e-06 - accuracy: 1.0000 - val_loss: 3.0784e-07 - val_accuracy: 1.0000\n",
      "Epoch 17/30\n",
      "69/69 [==============================] - 2s 29ms/step - loss: 3.9514e-06 - accuracy: 1.0000 - val_loss: 2.7531e-07 - val_accuracy: 1.0000\n",
      "Epoch 18/30\n",
      "69/69 [==============================] - 2s 29ms/step - loss: 3.1776e-06 - accuracy: 1.0000 - val_loss: 2.5719e-07 - val_accuracy: 1.0000\n",
      "Epoch 19/30\n",
      "69/69 [==============================] - 2s 31ms/step - loss: 2.7413e-06 - accuracy: 1.0000 - val_loss: 2.3536e-07 - val_accuracy: 1.0000\n",
      "Epoch 20/30\n",
      "69/69 [==============================] - 2s 28ms/step - loss: 2.3730e-06 - accuracy: 1.0000 - val_loss: 2.1134e-07 - val_accuracy: 1.0000\n",
      "Epoch 21/30\n",
      "69/69 [==============================] - 2s 28ms/step - loss: 4.2902e-06 - accuracy: 1.0000 - val_loss: 1.9475e-07 - val_accuracy: 1.0000\n",
      "Epoch 22/30\n",
      "69/69 [==============================] - 2s 28ms/step - loss: 2.5332e-06 - accuracy: 1.0000 - val_loss: 1.7270e-07 - val_accuracy: 1.0000\n",
      "Epoch 23/30\n",
      "69/69 [==============================] - 2s 29ms/step - loss: 2.4480e-06 - accuracy: 1.0000 - val_loss: 1.6222e-07 - val_accuracy: 1.0000\n",
      "Epoch 24/30\n",
      "69/69 [==============================] - 2s 29ms/step - loss: 2.4349e-06 - accuracy: 1.0000 - val_loss: 1.4781e-07 - val_accuracy: 1.0000\n",
      "Epoch 25/30\n",
      "69/69 [==============================] - 2s 28ms/step - loss: 2.3415e-06 - accuracy: 1.0000 - val_loss: 1.2729e-07 - val_accuracy: 1.0000\n",
      "Epoch 26/30\n",
      "69/69 [==============================] - 2s 28ms/step - loss: 2.2153e-06 - accuracy: 1.0000 - val_loss: 1.1615e-07 - val_accuracy: 1.0000\n",
      "Epoch 27/30\n",
      "69/69 [==============================] - 2s 29ms/step - loss: 1.8071e-06 - accuracy: 1.0000 - val_loss: 1.0938e-07 - val_accuracy: 1.0000\n",
      "Epoch 28/30\n",
      "69/69 [==============================] - 2s 29ms/step - loss: 1.7872e-06 - accuracy: 1.0000 - val_loss: 1.0240e-07 - val_accuracy: 1.0000\n",
      "Epoch 29/30\n",
      "69/69 [==============================] - 2s 31ms/step - loss: 1.6544e-06 - accuracy: 1.0000 - val_loss: 9.6284e-08 - val_accuracy: 1.0000\n",
      "Epoch 30/30\n",
      "69/69 [==============================] - 2s 28ms/step - loss: 1.2065e-06 - accuracy: 1.0000 - val_loss: 9.1263e-08 - val_accuracy: 1.0000\n"
     ]
    }
   ],
   "source": [
    "history_cnn_2_uncentered = train_model(model_cnn_2_uncentered, 30)"
   ],
   "metadata": {
    "collapsed": false,
    "ExecuteTime": {
     "end_time": "2023-07-30T14:24:23.381150200Z",
     "start_time": "2023-07-30T14:23:23.288451200Z"
    }
   }
  },
  {
   "cell_type": "code",
   "execution_count": 25,
   "outputs": [
    {
     "name": "stdout",
     "output_type": "stream",
     "text": [
      "Epoch 1/30\n",
      "69/69 [==============================] - 1s 14ms/step - loss: 0.0390 - accuracy: 0.9854 - val_loss: 0.0000e+00 - val_accuracy: 1.0000\n",
      "Epoch 2/30\n",
      "69/69 [==============================] - 1s 12ms/step - loss: 2.1813e-10 - accuracy: 1.0000 - val_loss: 0.0000e+00 - val_accuracy: 1.0000\n",
      "Epoch 3/30\n",
      "69/69 [==============================] - 1s 12ms/step - loss: 2.1813e-10 - accuracy: 1.0000 - val_loss: 0.0000e+00 - val_accuracy: 1.0000\n",
      "Epoch 4/30\n",
      "69/69 [==============================] - 1s 12ms/step - loss: 2.1813e-10 - accuracy: 1.0000 - val_loss: 0.0000e+00 - val_accuracy: 1.0000\n",
      "Epoch 5/30\n",
      "69/69 [==============================] - 1s 13ms/step - loss: 2.1813e-10 - accuracy: 1.0000 - val_loss: 0.0000e+00 - val_accuracy: 1.0000\n",
      "Epoch 6/30\n",
      "69/69 [==============================] - 1s 12ms/step - loss: 2.1813e-10 - accuracy: 1.0000 - val_loss: 0.0000e+00 - val_accuracy: 1.0000\n",
      "Epoch 7/30\n",
      "69/69 [==============================] - 1s 12ms/step - loss: 2.1813e-10 - accuracy: 1.0000 - val_loss: 0.0000e+00 - val_accuracy: 1.0000\n",
      "Epoch 8/30\n",
      "69/69 [==============================] - 1s 12ms/step - loss: 2.1813e-10 - accuracy: 1.0000 - val_loss: 0.0000e+00 - val_accuracy: 1.0000\n",
      "Epoch 9/30\n",
      "69/69 [==============================] - 1s 12ms/step - loss: 2.1813e-10 - accuracy: 1.0000 - val_loss: 0.0000e+00 - val_accuracy: 1.0000\n",
      "Epoch 10/30\n",
      "69/69 [==============================] - 1s 13ms/step - loss: 2.1813e-10 - accuracy: 1.0000 - val_loss: 0.0000e+00 - val_accuracy: 1.0000\n",
      "Epoch 11/30\n",
      "69/69 [==============================] - 1s 12ms/step - loss: 2.1813e-10 - accuracy: 1.0000 - val_loss: 0.0000e+00 - val_accuracy: 1.0000\n",
      "Epoch 12/30\n",
      "69/69 [==============================] - 1s 11ms/step - loss: 2.1813e-10 - accuracy: 1.0000 - val_loss: 0.0000e+00 - val_accuracy: 1.0000\n",
      "Epoch 13/30\n",
      "69/69 [==============================] - 1s 12ms/step - loss: 2.1813e-10 - accuracy: 1.0000 - val_loss: 0.0000e+00 - val_accuracy: 1.0000\n",
      "Epoch 14/30\n",
      "69/69 [==============================] - 1s 12ms/step - loss: 2.1813e-10 - accuracy: 1.0000 - val_loss: 0.0000e+00 - val_accuracy: 1.0000\n",
      "Epoch 15/30\n",
      "69/69 [==============================] - 1s 11ms/step - loss: 2.1813e-10 - accuracy: 1.0000 - val_loss: 0.0000e+00 - val_accuracy: 1.0000\n",
      "Epoch 16/30\n",
      "69/69 [==============================] - 1s 12ms/step - loss: 2.1813e-10 - accuracy: 1.0000 - val_loss: 0.0000e+00 - val_accuracy: 1.0000\n",
      "Epoch 17/30\n",
      "69/69 [==============================] - 1s 12ms/step - loss: 2.1813e-10 - accuracy: 1.0000 - val_loss: 0.0000e+00 - val_accuracy: 1.0000\n",
      "Epoch 18/30\n",
      "69/69 [==============================] - 1s 12ms/step - loss: 2.1813e-10 - accuracy: 1.0000 - val_loss: 0.0000e+00 - val_accuracy: 1.0000\n",
      "Epoch 19/30\n",
      "69/69 [==============================] - 1s 12ms/step - loss: 2.1813e-10 - accuracy: 1.0000 - val_loss: 0.0000e+00 - val_accuracy: 1.0000\n",
      "Epoch 20/30\n",
      "69/69 [==============================] - 1s 12ms/step - loss: 2.1813e-10 - accuracy: 1.0000 - val_loss: 0.0000e+00 - val_accuracy: 1.0000\n",
      "Epoch 21/30\n",
      "69/69 [==============================] - 1s 12ms/step - loss: 2.1813e-10 - accuracy: 1.0000 - val_loss: 0.0000e+00 - val_accuracy: 1.0000\n",
      "Epoch 22/30\n",
      "69/69 [==============================] - 1s 12ms/step - loss: 2.1813e-10 - accuracy: 1.0000 - val_loss: 0.0000e+00 - val_accuracy: 1.0000\n",
      "Epoch 23/30\n",
      "69/69 [==============================] - 1s 12ms/step - loss: 2.1813e-10 - accuracy: 1.0000 - val_loss: 0.0000e+00 - val_accuracy: 1.0000\n",
      "Epoch 24/30\n",
      "69/69 [==============================] - 1s 12ms/step - loss: 2.1813e-10 - accuracy: 1.0000 - val_loss: 0.0000e+00 - val_accuracy: 1.0000\n",
      "Epoch 25/30\n",
      "69/69 [==============================] - 1s 13ms/step - loss: 2.1813e-10 - accuracy: 1.0000 - val_loss: 0.0000e+00 - val_accuracy: 1.0000\n",
      "Epoch 26/30\n",
      "69/69 [==============================] - 1s 12ms/step - loss: 2.1813e-10 - accuracy: 1.0000 - val_loss: 0.0000e+00 - val_accuracy: 1.0000\n",
      "Epoch 27/30\n",
      "69/69 [==============================] - 1s 12ms/step - loss: 2.1813e-10 - accuracy: 1.0000 - val_loss: 0.0000e+00 - val_accuracy: 1.0000\n",
      "Epoch 28/30\n",
      "69/69 [==============================] - 1s 12ms/step - loss: 2.1813e-10 - accuracy: 1.0000 - val_loss: 0.0000e+00 - val_accuracy: 1.0000\n",
      "Epoch 29/30\n",
      "69/69 [==============================] - 1s 12ms/step - loss: 2.1813e-10 - accuracy: 1.0000 - val_loss: 0.0000e+00 - val_accuracy: 1.0000\n",
      "Epoch 30/30\n",
      "69/69 [==============================] - 1s 10ms/step - loss: 2.1813e-10 - accuracy: 1.0000 - val_loss: 0.0000e+00 - val_accuracy: 1.0000\n"
     ]
    }
   ],
   "source": [
    "history_LeNet_uncentered = train_model(model_LeNet_uncentered, 30)"
   ],
   "metadata": {
    "collapsed": false,
    "ExecuteTime": {
     "end_time": "2023-07-30T14:24:48.875167700Z",
     "start_time": "2023-07-30T14:24:23.386644800Z"
    }
   }
  },
  {
   "cell_type": "code",
   "execution_count": 41,
   "outputs": [],
   "source": [
    "model_cnn_uncentered.save_weights('checkpoints/model_cnn_weights/checkpoint_cpu_uncentered')\n",
    "model_cnn_2_uncentered.save_weights('checkpoints/model_cnn_2_weights/checkpoint_cpu_uncentered')\n",
    "model_LeNet_uncentered.save_weights('checkpoints/model_LeNet_weights/checkpoint_cpu_uncentered')"
   ],
   "metadata": {
    "collapsed": false,
    "ExecuteTime": {
     "end_time": "2023-07-30T14:42:03.578622100Z",
     "start_time": "2023-07-30T14:42:03.443675900Z"
    }
   }
  },
  {
   "cell_type": "markdown",
   "source": [
    "# Export all models"
   ],
   "metadata": {
    "collapsed": false
   }
  },
  {
   "cell_type": "code",
   "execution_count": 12,
   "outputs": [
    {
     "data": {
      "text/plain": "<tensorflow.python.checkpoint.checkpoint.CheckpointLoadStatus at 0x125bf32e110>"
     },
     "execution_count": 12,
     "metadata": {},
     "output_type": "execute_result"
    }
   ],
   "source": [
    "model_cnn_uncentered.load_weights('D:/Study/HICT/HICT_Patterns/checkpoints/model_cnn_weights/checkpoint_cpu_uncentered')\n",
    "model_cnn_2_uncentered.load_weights('D:/Study/HICT/HICT_Patterns/checkpoints/model_cnn_2_weights/checkpoint_cpu_uncentered')\n",
    "model_LeNet_uncentered.load_weights('D:/Study/HICT/HICT_Patterns/checkpoints/model_LeNet_weights/checkpoint_cpu_uncentered')"
   ],
   "metadata": {
    "collapsed": false,
    "ExecuteTime": {
     "end_time": "2023-07-30T15:35:20.275250700Z",
     "start_time": "2023-07-30T15:35:20.118061300Z"
    }
   }
  },
  {
   "cell_type": "code",
   "execution_count": 15,
   "outputs": [],
   "source": [
    "model_cnn.save(\"D:/Study/HICT/HICT_Patterns/exported_models/centered_first.keras\")\n",
    "model_cnn_2.save(\"D:/Study/HICT/HICT_Patterns/exported_models/centered_second.keras\")\n",
    "model_LeNet.save(\"D:/Study/HICT/HICT_Patterns/exported_models/centered_third.keras\")\n",
    "\n",
    "model_cnn_uncentered.save(\"D:/Study/HICT/HICT_Patterns/exported_models/final_first.keras\")\n",
    "model_cnn_2_uncentered.save(\"D:/Study/HICT/HICT_Patterns/exported_models/final_second.keras\")\n",
    "model_LeNet_uncentered.save(\"D:/Study/HICT/HICT_Patterns/exported_models/final_third.keras\")"
   ],
   "metadata": {
    "collapsed": false,
    "ExecuteTime": {
     "end_time": "2023-07-30T15:39:08.168443800Z",
     "start_time": "2023-07-30T15:39:08.007740800Z"
    }
   }
  }
 ],
 "metadata": {
  "kernelspec": {
   "display_name": "Python 3",
   "language": "python",
   "name": "python3"
  },
  "language_info": {
   "codemirror_mode": {
    "name": "ipython",
    "version": 2
   },
   "file_extension": ".py",
   "mimetype": "text/x-python",
   "name": "python",
   "nbconvert_exporter": "python",
   "pygments_lexer": "ipython2",
   "version": "2.7.6"
  }
 },
 "nbformat": 4,
 "nbformat_minor": 0
}
