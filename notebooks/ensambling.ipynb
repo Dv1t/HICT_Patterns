{
 "cells": [
  {
   "cell_type": "code",
   "execution_count": 1,
   "metadata": {
    "ExecuteTime": {
     "end_time": "2023-08-17T14:48:14.145266300Z",
     "start_time": "2023-08-17T14:48:10.374386900Z"
    },
    "collapsed": true
   },
   "outputs": [
    {
     "name": "stderr",
     "output_type": "stream",
     "text": [
      "c:\\Users\\vit\\.conda\\envs\\HICT\\lib\\site-packages\\numpy\\_distributor_init.py:30: UserWarning: loaded more than 1 DLL from .libs:\n",
      "c:\\Users\\vit\\.conda\\envs\\HICT\\lib\\site-packages\\numpy\\.libs\\libopenblas.FB5AE2TYXYH2IJRDKGDGQ3XBKLKTF43H.gfortran-win_amd64.dll\n",
      "c:\\Users\\vit\\.conda\\envs\\HICT\\lib\\site-packages\\numpy\\.libs\\libopenblas64__v0.3.21-gcc_10_3_0.dll\n",
      "  warnings.warn(\"loaded more than 1 DLL from .libs:\"\n"
     ]
    }
   ],
   "source": [
    "import tensorflow as tf\n",
    "from tensorflow import keras\n",
    "import pathlib\n",
    "from keras.models import Sequential\n",
    "from keras.layers import Dense, Dropout, Flatten, Conv2D, MaxPooling2D,AveragePooling2D\n",
    "from keras.layers import BatchNormalization\n",
    "from keras.callbacks import LearningRateScheduler,ReduceLROnPlateau\n",
    "from keras.optimizers import Adam\n",
    "from keras import Model, Input\n",
    "from keras.layers import Average\n",
    "from typing import List\n",
    "from keras.utils.version_utils import training\n",
    "\n",
    "\n",
    "print(tf.config.list_physical_devices('CPU'))"
   ]
  },
  {
   "cell_type": "markdown",
   "metadata": {
    "collapsed": false
   },
   "source": [
    "# Загрузка датасета и связанных гиперпараметров"
   ]
  },
  {
   "cell_type": "code",
   "execution_count": 2,
   "metadata": {
    "ExecuteTime": {
     "end_time": "2023-08-17T14:48:42.890532500Z",
     "start_time": "2023-08-17T14:48:42.877645200Z"
    },
    "collapsed": false
   },
   "outputs": [],
   "source": [
    "local_path = 'D:/Study/HICT/HICT_Patterns/'\n",
    "\n",
    "data_dir = pathlib.Path(f'{local_path}datasets/images_center_10')"
   ]
  },
  {
   "cell_type": "code",
   "execution_count": 3,
   "metadata": {
    "ExecuteTime": {
     "end_time": "2023-08-17T14:48:49.465386Z",
     "start_time": "2023-08-17T14:48:49.455314700Z"
    },
    "collapsed": false
   },
   "outputs": [],
   "source": [
    "batch_size = 32\n",
    "img_height = 20\n",
    "img_width = 20\n",
    "num_classes = 2"
   ]
  },
  {
   "cell_type": "code",
   "execution_count": 4,
   "metadata": {
    "ExecuteTime": {
     "end_time": "2023-08-17T14:48:53.376017400Z",
     "start_time": "2023-08-17T14:48:52.645257200Z"
    },
    "collapsed": false
   },
   "outputs": [
    {
     "name": "stdout",
     "output_type": "stream",
     "text": [
      "Found 5804 files belonging to 2 classes.\n",
      "Using 4644 files for training.\n"
     ]
    }
   ],
   "source": [
    "with tf.device('/device:CPU:0'):\n",
    "  train_ds = tf.keras.utils.image_dataset_from_directory(\n",
    "    data_dir,\n",
    "    validation_split=0.2,\n",
    "    subset=\"training\",\n",
    "    seed=123,\n",
    "    image_size=(img_height, img_width),\n",
    "    batch_size=batch_size)"
   ]
  },
  {
   "cell_type": "code",
   "execution_count": 5,
   "metadata": {
    "ExecuteTime": {
     "end_time": "2023-08-17T14:48:54.531542400Z",
     "start_time": "2023-08-17T14:48:54.075350100Z"
    },
    "collapsed": false
   },
   "outputs": [
    {
     "name": "stdout",
     "output_type": "stream",
     "text": [
      "Found 5804 files belonging to 2 classes.\n",
      "Using 1160 files for validation.\n"
     ]
    }
   ],
   "source": [
    "with tf.device('/device:CPU:0'):\n",
    "  val_ds = tf.keras.utils.image_dataset_from_directory(\n",
    "    data_dir,\n",
    "    validation_split=0.2,\n",
    "    subset=\"validation\",\n",
    "    seed=123,\n",
    "    image_size=(img_height, img_width),\n",
    "    batch_size=batch_size)"
   ]
  },
  {
   "cell_type": "code",
   "execution_count": 6,
   "metadata": {
    "ExecuteTime": {
     "end_time": "2023-08-17T14:48:55.185107500Z",
     "start_time": "2023-08-17T14:48:55.175215600Z"
    },
    "collapsed": false
   },
   "outputs": [
    {
     "name": "stdout",
     "output_type": "stream",
     "text": [
      "['negative', 'positive']\n"
     ]
    }
   ],
   "source": [
    "class_names = train_ds.class_names\n",
    "print(class_names)"
   ]
  },
  {
   "cell_type": "code",
   "execution_count": 7,
   "metadata": {
    "ExecuteTime": {
     "end_time": "2023-08-17T14:48:55.705128900Z",
     "start_time": "2023-08-17T14:48:55.684925100Z"
    },
    "collapsed": false
   },
   "outputs": [],
   "source": [
    "with tf.device('/device:CPU:0'):\n",
    "  AUTOTUNE = tf.data.AUTOTUNE\n",
    "\n",
    "  train_ds = train_ds.cache().shuffle(1000).prefetch(buffer_size=AUTOTUNE)\n",
    "  val_ds = val_ds.cache().prefetch(buffer_size=AUTOTUNE)"
   ]
  },
  {
   "cell_type": "markdown",
   "metadata": {
    "collapsed": false
   },
   "source": [
    "# Определение моделей и методов для работы с ними"
   ]
  },
  {
   "cell_type": "code",
   "execution_count": 8,
   "metadata": {
    "ExecuteTime": {
     "end_time": "2023-08-17T14:48:57.419325900Z",
     "start_time": "2023-08-17T14:48:57.404908500Z"
    },
    "collapsed": false
   },
   "outputs": [],
   "source": [
    "def create_model_cnn(input_shape=(img_height, img_width), num_classes=num_classes):\n",
    "  model = Sequential([\n",
    "  keras.layers.Rescaling(1./255, input_shape=(img_height, img_width, 3), name='rescaling_1_1'),\n",
    "  keras.layers.Conv2D(16, 3, padding='same', activation='relu'),\n",
    "  keras.layers.MaxPooling2D(),\n",
    "  keras.layers.Conv2D(32, 3, padding='same', activation='relu'),\n",
    "  keras.layers.MaxPooling2D(),\n",
    "  keras.layers.Conv2D(64, 3, padding='same', activation='relu'),\n",
    "  keras.layers.MaxPooling2D(),\n",
    "  keras.layers.Dropout(0.2),\n",
    "  keras.layers.Flatten(),\n",
    "  keras.layers.Dense(128, activation='relu'),\n",
    "  keras.layers.Dense(num_classes)\n",
    "  ])\n",
    "  model.compile(optimizer='adam',\n",
    "                loss=tf.keras.losses.SparseCategoricalCrossentropy(from_logits=True),\n",
    "                metrics=['accuracy'])\n",
    "  return model"
   ]
  },
  {
   "cell_type": "code",
   "execution_count": 9,
   "metadata": {
    "ExecuteTime": {
     "end_time": "2023-08-17T14:48:57.945194900Z",
     "start_time": "2023-08-17T14:48:57.925294400Z"
    },
    "collapsed": false
   },
   "outputs": [],
   "source": [
    "def create_model_cnn_2(input_shape=(img_height, img_width), num_classes=num_classes):\n",
    "    model = Sequential()\n",
    "    model.add(keras.layers.Rescaling(1./255, input_shape=(img_height, img_width, 3), name='rescaling_2_1'))\n",
    "    model.add(Conv2D(32, kernel_size = (3,3), activation='relu', input_shape = input_shape))\n",
    "    model.add(BatchNormalization())\n",
    "    model.add(Conv2D(32, kernel_size = (3,3), activation='relu'))\n",
    "    model.add(BatchNormalization())\n",
    "    model.add(Conv2D(32, kernel_size = (5,5), strides=2, padding='same', activation='relu'))\n",
    "    model.add(BatchNormalization())\n",
    "    model.add(Dropout(0.4))\n",
    "    model.add(Conv2D(64, kernel_size = (3,3), activation='relu'))\n",
    "    model.add(BatchNormalization())\n",
    "    model.add(Conv2D(64, kernel_size = (3,3), activation='relu'))\n",
    "    model.add(BatchNormalization())\n",
    "    model.add(Conv2D(64, kernel_size = (3,3), padding='same', activation='relu'))\n",
    "    model.add(BatchNormalization())\n",
    "    model.add(Dropout(0.4))\n",
    "    model.add(Conv2D(128, kernel_size = 3, activation='relu'))\n",
    "    model.add(BatchNormalization())\n",
    "    model.add(Flatten())\n",
    "    model.add(Dense(num_classes, activation = \"sigmoid\"))\n",
    "    model.compile(optimizer = 'adam' , loss=tf.keras.losses.SparseCategoricalCrossentropy(from_logits=True), metrics=[\"accuracy\"])\n",
    "    return model"
   ]
  },
  {
   "cell_type": "code",
   "execution_count": 10,
   "metadata": {
    "ExecuteTime": {
     "end_time": "2023-08-17T14:48:58.440510800Z",
     "start_time": "2023-08-17T14:48:58.408805300Z"
    },
    "collapsed": false
   },
   "outputs": [],
   "source": [
    "def create_LeNet5(input_shape=(img_height, img_width), num_classes=num_classes):\n",
    "    model = Sequential()\n",
    "    model.add(keras.layers.Rescaling(1./255, input_shape=(img_height, img_width, 3), name='rescaling_3_1'))\n",
    "    model.add(Conv2D(6, kernel_size=(5, 5), strides=(1, 1), activation='relu', input_shape=input_shape, padding=\"same\"))\n",
    "    model.add(AveragePooling2D(pool_size=(2, 2), strides=(1, 1), padding='valid'))\n",
    "    model.add(Conv2D(16, kernel_size=(5, 5), strides=(1, 1), activation='relu', padding='valid'))\n",
    "    model.add(AveragePooling2D(pool_size=(2, 2), strides=(2, 2), padding='valid'))\n",
    "    model.add(Conv2D(120, kernel_size=(5, 5), strides=(1, 1), activation='relu', padding='valid'))\n",
    "    model.add(Flatten())\n",
    "    model.add(Dense(84, activation='relu'))\n",
    "    model.add(Dense(num_classes, activation='sigmoid'))\n",
    "    model.compile(optimizer =  'adam' , loss=tf.keras.losses.SparseCategoricalCrossentropy(from_logits=True), metrics=[\"accuracy\"])\n",
    "    return model"
   ]
  },
  {
   "cell_type": "code",
   "execution_count": 11,
   "metadata": {
    "ExecuteTime": {
     "end_time": "2023-08-17T14:48:59.147450800Z",
     "start_time": "2023-08-17T14:48:59.103134Z"
    },
    "collapsed": false
   },
   "outputs": [],
   "source": [
    "def train_model(model, epochs):\n",
    "    with tf.device('/device:CPU:0'):\n",
    "        history = model.fit(\n",
    "        train_ds,\n",
    "        validation_data=val_ds,\n",
    "        epochs=epochs)\n",
    "        return history"
   ]
  },
  {
   "cell_type": "markdown",
   "metadata": {
    "collapsed": false
   },
   "source": [
    "# Создание моделей"
   ]
  },
  {
   "cell_type": "code",
   "execution_count": 12,
   "metadata": {
    "ExecuteTime": {
     "end_time": "2023-08-17T14:49:01.235351600Z",
     "start_time": "2023-08-17T14:49:00.915510700Z"
    },
    "collapsed": false
   },
   "outputs": [],
   "source": [
    "model_cnn = create_model_cnn()\n",
    "model_cnn_2 = create_model_cnn_2()\n",
    "model_LeNet = create_LeNet5()"
   ]
  },
  {
   "cell_type": "markdown",
   "metadata": {
    "collapsed": false
   },
   "source": [
    "# Обучение"
   ]
  },
  {
   "cell_type": "code",
   "execution_count": 13,
   "metadata": {
    "ExecuteTime": {
     "end_time": "2023-08-17T14:49:50.992365100Z",
     "start_time": "2023-08-17T14:49:03.298322400Z"
    },
    "collapsed": false
   },
   "outputs": [
    {
     "name": "stdout",
     "output_type": "stream",
     "text": [
      "Epoch 1/30\n",
      "146/146 [==============================] - 3s 12ms/step - loss: 0.1310 - accuracy: 0.9472 - val_loss: 0.0227 - val_accuracy: 0.9948\n",
      "Epoch 2/30\n",
      "146/146 [==============================] - 1s 10ms/step - loss: 0.0276 - accuracy: 0.9929 - val_loss: 0.0232 - val_accuracy: 0.9914\n",
      "Epoch 3/30\n",
      "146/146 [==============================] - 2s 11ms/step - loss: 0.0214 - accuracy: 0.9938 - val_loss: 0.0228 - val_accuracy: 0.9914\n",
      "Epoch 4/30\n",
      "146/146 [==============================] - 2s 10ms/step - loss: 0.0206 - accuracy: 0.9953 - val_loss: 0.0157 - val_accuracy: 0.9948\n",
      "Epoch 5/30\n",
      "146/146 [==============================] - 1s 10ms/step - loss: 0.0171 - accuracy: 0.9974 - val_loss: 0.0167 - val_accuracy: 0.9940\n",
      "Epoch 6/30\n",
      "146/146 [==============================] - 1s 10ms/step - loss: 0.0138 - accuracy: 0.9970 - val_loss: 0.0147 - val_accuracy: 0.9948\n",
      "Epoch 7/30\n",
      "146/146 [==============================] - 2s 10ms/step - loss: 0.0117 - accuracy: 0.9981 - val_loss: 0.0115 - val_accuracy: 0.9974\n",
      "Epoch 8/30\n",
      "146/146 [==============================] - 1s 10ms/step - loss: 0.0126 - accuracy: 0.9968 - val_loss: 0.0161 - val_accuracy: 0.9948\n",
      "Epoch 9/30\n",
      "146/146 [==============================] - 2s 11ms/step - loss: 0.0113 - accuracy: 0.9972 - val_loss: 0.0104 - val_accuracy: 0.9966\n",
      "Epoch 10/30\n",
      "146/146 [==============================] - 2s 10ms/step - loss: 0.0102 - accuracy: 0.9981 - val_loss: 0.0109 - val_accuracy: 0.9948\n",
      "Epoch 11/30\n",
      "146/146 [==============================] - 1s 10ms/step - loss: 0.0132 - accuracy: 0.9972 - val_loss: 0.0087 - val_accuracy: 0.9974\n",
      "Epoch 12/30\n",
      "146/146 [==============================] - 2s 11ms/step - loss: 0.0098 - accuracy: 0.9976 - val_loss: 0.0092 - val_accuracy: 0.9983\n",
      "Epoch 13/30\n",
      "146/146 [==============================] - 2s 11ms/step - loss: 0.0065 - accuracy: 0.9987 - val_loss: 0.0091 - val_accuracy: 0.9974\n",
      "Epoch 14/30\n",
      "146/146 [==============================] - 2s 11ms/step - loss: 0.0074 - accuracy: 0.9989 - val_loss: 0.0082 - val_accuracy: 0.9957\n",
      "Epoch 15/30\n",
      "146/146 [==============================] - 2s 10ms/step - loss: 0.0084 - accuracy: 0.9981 - val_loss: 0.0113 - val_accuracy: 0.9974\n",
      "Epoch 16/30\n",
      "146/146 [==============================] - 2s 10ms/step - loss: 0.0068 - accuracy: 0.9983 - val_loss: 0.0042 - val_accuracy: 0.9991\n",
      "Epoch 17/30\n",
      "146/146 [==============================] - 2s 10ms/step - loss: 0.0059 - accuracy: 0.9985 - val_loss: 0.0581 - val_accuracy: 0.9828\n",
      "Epoch 18/30\n",
      "146/146 [==============================] - 2s 11ms/step - loss: 0.0064 - accuracy: 0.9985 - val_loss: 0.0135 - val_accuracy: 0.9957\n",
      "Epoch 19/30\n",
      "146/146 [==============================] - 2s 10ms/step - loss: 0.0035 - accuracy: 0.9989 - val_loss: 0.0134 - val_accuracy: 0.9957\n",
      "Epoch 20/30\n",
      "146/146 [==============================] - 2s 11ms/step - loss: 0.0103 - accuracy: 0.9966 - val_loss: 0.0115 - val_accuracy: 0.9957\n",
      "Epoch 21/30\n",
      "146/146 [==============================] - 1s 9ms/step - loss: 0.0054 - accuracy: 0.9985 - val_loss: 0.0111 - val_accuracy: 0.9966\n",
      "Epoch 22/30\n",
      "146/146 [==============================] - 1s 10ms/step - loss: 0.0034 - accuracy: 0.9994 - val_loss: 0.0115 - val_accuracy: 0.9966\n",
      "Epoch 23/30\n",
      "146/146 [==============================] - 1s 10ms/step - loss: 0.0020 - accuracy: 0.9996 - val_loss: 0.0043 - val_accuracy: 0.9983\n",
      "Epoch 24/30\n",
      "146/146 [==============================] - 1s 10ms/step - loss: 0.0020 - accuracy: 0.9991 - val_loss: 0.0099 - val_accuracy: 0.9966\n",
      "Epoch 25/30\n",
      "146/146 [==============================] - 2s 11ms/step - loss: 0.0046 - accuracy: 0.9985 - val_loss: 0.0058 - val_accuracy: 0.9974\n",
      "Epoch 26/30\n",
      "146/146 [==============================] - 2s 11ms/step - loss: 0.0044 - accuracy: 0.9989 - val_loss: 0.0045 - val_accuracy: 0.9974\n",
      "Epoch 27/30\n",
      "146/146 [==============================] - 2s 11ms/step - loss: 0.0023 - accuracy: 0.9994 - val_loss: 0.0070 - val_accuracy: 0.9966\n",
      "Epoch 28/30\n",
      "146/146 [==============================] - 1s 10ms/step - loss: 0.0011 - accuracy: 0.9998 - val_loss: 0.0060 - val_accuracy: 0.9983\n",
      "Epoch 29/30\n",
      "146/146 [==============================] - 2s 11ms/step - loss: 2.7261e-04 - accuracy: 1.0000 - val_loss: 0.0072 - val_accuracy: 0.9974\n",
      "Epoch 30/30\n",
      "146/146 [==============================] - 2s 11ms/step - loss: 6.2637e-05 - accuracy: 1.0000 - val_loss: 0.0074 - val_accuracy: 0.9983\n"
     ]
    }
   ],
   "source": [
    "history_cnn = train_model(model_cnn, 30)"
   ]
  },
  {
   "cell_type": "code",
   "execution_count": 14,
   "metadata": {
    "ExecuteTime": {
     "end_time": "2023-08-17T14:52:05.942886700Z",
     "start_time": "2023-08-17T14:49:50.992365100Z"
    },
    "collapsed": false
   },
   "outputs": [
    {
     "name": "stdout",
     "output_type": "stream",
     "text": [
      "Epoch 1/30\n"
     ]
    },
    {
     "name": "stderr",
     "output_type": "stream",
     "text": [
      "C:\\Users\\vit\\.conda\\envs\\HICT\\lib\\site-packages\\keras\\backend.py:5582: UserWarning: \"`sparse_categorical_crossentropy` received `from_logits=True`, but the `output` argument was produced by a Softmax activation and thus does not represent logits. Was this intended?\n",
      "  output, from_logits = _get_logits(\n"
     ]
    },
    {
     "name": "stdout",
     "output_type": "stream",
     "text": [
      "146/146 [==============================] - 5s 29ms/step - loss: 0.0587 - accuracy: 0.9830 - val_loss: 1.4755 - val_accuracy: 0.5267\n",
      "Epoch 2/30\n",
      "146/146 [==============================] - 4s 30ms/step - loss: 0.0315 - accuracy: 0.9894 - val_loss: 0.7430 - val_accuracy: 0.7405\n",
      "Epoch 3/30\n",
      "146/146 [==============================] - 5s 31ms/step - loss: 0.0211 - accuracy: 0.9927 - val_loss: 0.0802 - val_accuracy: 0.9707\n",
      "Epoch 4/30\n",
      "146/146 [==============================] - 5s 32ms/step - loss: 0.0261 - accuracy: 0.9914 - val_loss: 0.0305 - val_accuracy: 0.9897\n",
      "Epoch 5/30\n",
      "146/146 [==============================] - 4s 30ms/step - loss: 0.0281 - accuracy: 0.9912 - val_loss: 0.0206 - val_accuracy: 0.9914\n",
      "Epoch 6/30\n",
      "146/146 [==============================] - 5s 31ms/step - loss: 0.0152 - accuracy: 0.9944 - val_loss: 0.0298 - val_accuracy: 0.9853\n",
      "Epoch 7/30\n",
      "146/146 [==============================] - 5s 31ms/step - loss: 0.0140 - accuracy: 0.9946 - val_loss: 0.0188 - val_accuracy: 0.9966\n",
      "Epoch 8/30\n",
      "146/146 [==============================] - 5s 31ms/step - loss: 0.0179 - accuracy: 0.9946 - val_loss: 0.0146 - val_accuracy: 0.9966\n",
      "Epoch 9/30\n",
      "146/146 [==============================] - 5s 32ms/step - loss: 0.0136 - accuracy: 0.9953 - val_loss: 0.0186 - val_accuracy: 0.9897\n",
      "Epoch 10/30\n",
      "146/146 [==============================] - 5s 32ms/step - loss: 0.0085 - accuracy: 0.9974 - val_loss: 0.0217 - val_accuracy: 0.9922\n",
      "Epoch 11/30\n",
      "146/146 [==============================] - 5s 31ms/step - loss: 0.0106 - accuracy: 0.9970 - val_loss: 0.0093 - val_accuracy: 0.9983\n",
      "Epoch 12/30\n",
      "146/146 [==============================] - 4s 31ms/step - loss: 0.0083 - accuracy: 0.9966 - val_loss: 0.0071 - val_accuracy: 0.9948\n",
      "Epoch 13/30\n",
      "146/146 [==============================] - 4s 30ms/step - loss: 0.0132 - accuracy: 0.9953 - val_loss: 0.0428 - val_accuracy: 0.9879\n",
      "Epoch 14/30\n",
      "146/146 [==============================] - 4s 30ms/step - loss: 0.0154 - accuracy: 0.9950 - val_loss: 0.0150 - val_accuracy: 0.9966\n",
      "Epoch 15/30\n",
      "146/146 [==============================] - 4s 31ms/step - loss: 0.0107 - accuracy: 0.9966 - val_loss: 0.0244 - val_accuracy: 0.9948\n",
      "Epoch 16/30\n",
      "146/146 [==============================] - 4s 30ms/step - loss: 0.0086 - accuracy: 0.9970 - val_loss: 0.0214 - val_accuracy: 0.9948\n",
      "Epoch 17/30\n",
      "146/146 [==============================] - 4s 30ms/step - loss: 0.0059 - accuracy: 0.9976 - val_loss: 0.0120 - val_accuracy: 0.9966\n",
      "Epoch 18/30\n",
      "146/146 [==============================] - 4s 30ms/step - loss: 0.0049 - accuracy: 0.9987 - val_loss: 0.0230 - val_accuracy: 0.9940\n",
      "Epoch 19/30\n",
      "146/146 [==============================] - 4s 30ms/step - loss: 0.0118 - accuracy: 0.9948 - val_loss: 0.0158 - val_accuracy: 0.9966\n",
      "Epoch 20/30\n",
      "146/146 [==============================] - 4s 30ms/step - loss: 0.0095 - accuracy: 0.9974 - val_loss: 0.0512 - val_accuracy: 0.9905\n",
      "Epoch 21/30\n",
      "146/146 [==============================] - 4s 30ms/step - loss: 0.0111 - accuracy: 0.9955 - val_loss: 0.0208 - val_accuracy: 0.9940\n",
      "Epoch 22/30\n",
      "146/146 [==============================] - 4s 30ms/step - loss: 0.0029 - accuracy: 0.9989 - val_loss: 0.0438 - val_accuracy: 0.9905\n",
      "Epoch 23/30\n",
      "146/146 [==============================] - 4s 31ms/step - loss: 0.0085 - accuracy: 0.9972 - val_loss: 0.0239 - val_accuracy: 0.9931\n",
      "Epoch 24/30\n",
      "146/146 [==============================] - 4s 30ms/step - loss: 0.0052 - accuracy: 0.9981 - val_loss: 0.0183 - val_accuracy: 0.9940\n",
      "Epoch 25/30\n",
      "146/146 [==============================] - 4s 30ms/step - loss: 0.0039 - accuracy: 0.9985 - val_loss: 0.0370 - val_accuracy: 0.9931\n",
      "Epoch 26/30\n",
      "146/146 [==============================] - 4s 31ms/step - loss: 6.1240e-04 - accuracy: 0.9998 - val_loss: 0.0181 - val_accuracy: 0.9966\n",
      "Epoch 27/30\n",
      "146/146 [==============================] - 4s 30ms/step - loss: 0.0037 - accuracy: 0.9991 - val_loss: 0.0111 - val_accuracy: 0.9974\n",
      "Epoch 28/30\n",
      "146/146 [==============================] - 4s 30ms/step - loss: 0.0032 - accuracy: 0.9996 - val_loss: 0.0161 - val_accuracy: 0.9974\n",
      "Epoch 29/30\n",
      "146/146 [==============================] - 4s 30ms/step - loss: 0.0018 - accuracy: 0.9991 - val_loss: 0.0158 - val_accuracy: 0.9983\n",
      "Epoch 30/30\n",
      "146/146 [==============================] - 4s 31ms/step - loss: 0.0078 - accuracy: 0.9983 - val_loss: 0.0334 - val_accuracy: 0.9940\n"
     ]
    }
   ],
   "source": [
    "history_cnn_2 = train_model(model_cnn_2, 30)"
   ]
  },
  {
   "cell_type": "code",
   "execution_count": 15,
   "metadata": {
    "ExecuteTime": {
     "end_time": "2023-08-17T14:53:03.659333500Z",
     "start_time": "2023-08-17T14:52:05.945873900Z"
    },
    "collapsed": false
   },
   "outputs": [
    {
     "name": "stdout",
     "output_type": "stream",
     "text": [
      "Epoch 1/30\n",
      "146/146 [==============================] - 3s 15ms/step - loss: 0.0954 - accuracy: 0.9578 - val_loss: 0.0591 - val_accuracy: 0.9767\n",
      "Epoch 2/30\n",
      "146/146 [==============================] - 2s 14ms/step - loss: 0.0335 - accuracy: 0.9907 - val_loss: 0.0254 - val_accuracy: 0.9948\n",
      "Epoch 3/30\n",
      "146/146 [==============================] - 2s 13ms/step - loss: 0.0261 - accuracy: 0.9933 - val_loss: 0.0267 - val_accuracy: 0.9948\n",
      "Epoch 4/30\n",
      "146/146 [==============================] - 2s 14ms/step - loss: 0.0258 - accuracy: 0.9929 - val_loss: 0.0400 - val_accuracy: 0.9871\n",
      "Epoch 5/30\n",
      "146/146 [==============================] - 2s 13ms/step - loss: 0.0224 - accuracy: 0.9948 - val_loss: 0.0238 - val_accuracy: 0.9922\n",
      "Epoch 6/30\n",
      "146/146 [==============================] - 2s 13ms/step - loss: 0.0194 - accuracy: 0.9955 - val_loss: 0.0209 - val_accuracy: 0.9940\n",
      "Epoch 7/30\n",
      "146/146 [==============================] - 2s 13ms/step - loss: 0.0165 - accuracy: 0.9959 - val_loss: 0.0161 - val_accuracy: 0.9940\n",
      "Epoch 8/30\n",
      "146/146 [==============================] - 2s 13ms/step - loss: 0.0200 - accuracy: 0.9942 - val_loss: 0.0189 - val_accuracy: 0.9957\n",
      "Epoch 9/30\n",
      "146/146 [==============================] - 2s 13ms/step - loss: 0.0153 - accuracy: 0.9959 - val_loss: 0.0162 - val_accuracy: 0.9966\n",
      "Epoch 10/30\n",
      "146/146 [==============================] - 2s 12ms/step - loss: 0.0147 - accuracy: 0.9955 - val_loss: 0.0176 - val_accuracy: 0.9940\n",
      "Epoch 11/30\n",
      "146/146 [==============================] - 2s 13ms/step - loss: 0.0157 - accuracy: 0.9959 - val_loss: 0.0140 - val_accuracy: 0.9957\n",
      "Epoch 12/30\n",
      "146/146 [==============================] - 2s 13ms/step - loss: 0.0122 - accuracy: 0.9970 - val_loss: 0.0196 - val_accuracy: 0.9922\n",
      "Epoch 13/30\n",
      "146/146 [==============================] - 2s 13ms/step - loss: 0.0121 - accuracy: 0.9961 - val_loss: 0.0101 - val_accuracy: 0.9966\n",
      "Epoch 14/30\n",
      "146/146 [==============================] - 2s 13ms/step - loss: 0.0104 - accuracy: 0.9976 - val_loss: 0.0198 - val_accuracy: 0.9948\n",
      "Epoch 15/30\n",
      "146/146 [==============================] - 2s 13ms/step - loss: 0.0111 - accuracy: 0.9966 - val_loss: 0.0132 - val_accuracy: 0.9966\n",
      "Epoch 16/30\n",
      "146/146 [==============================] - 2s 13ms/step - loss: 0.0149 - accuracy: 0.9953 - val_loss: 0.0316 - val_accuracy: 0.9940\n",
      "Epoch 17/30\n",
      "146/146 [==============================] - 2s 12ms/step - loss: 0.0147 - accuracy: 0.9966 - val_loss: 0.0130 - val_accuracy: 0.9957\n",
      "Epoch 18/30\n",
      "146/146 [==============================] - 2s 13ms/step - loss: 0.0116 - accuracy: 0.9974 - val_loss: 0.0256 - val_accuracy: 0.9940\n",
      "Epoch 19/30\n",
      "146/146 [==============================] - 2s 13ms/step - loss: 0.0124 - accuracy: 0.9966 - val_loss: 0.0098 - val_accuracy: 0.9974\n",
      "Epoch 20/30\n",
      "146/146 [==============================] - 2s 12ms/step - loss: 0.0113 - accuracy: 0.9972 - val_loss: 0.0217 - val_accuracy: 0.9948\n",
      "Epoch 21/30\n",
      "146/146 [==============================] - 2s 13ms/step - loss: 0.0106 - accuracy: 0.9963 - val_loss: 0.0161 - val_accuracy: 0.9957\n",
      "Epoch 22/30\n",
      "146/146 [==============================] - 2s 13ms/step - loss: 0.0082 - accuracy: 0.9976 - val_loss: 0.0108 - val_accuracy: 0.9957\n",
      "Epoch 23/30\n",
      "146/146 [==============================] - 2s 14ms/step - loss: 0.0051 - accuracy: 0.9981 - val_loss: 0.0171 - val_accuracy: 0.9948\n",
      "Epoch 24/30\n",
      "146/146 [==============================] - 2s 12ms/step - loss: 0.0078 - accuracy: 0.9983 - val_loss: 0.0097 - val_accuracy: 0.9974\n",
      "Epoch 25/30\n",
      "146/146 [==============================] - 2s 13ms/step - loss: 0.0095 - accuracy: 0.9978 - val_loss: 0.0063 - val_accuracy: 0.9983\n",
      "Epoch 26/30\n",
      "146/146 [==============================] - 2s 11ms/step - loss: 0.0141 - accuracy: 0.9959 - val_loss: 0.0185 - val_accuracy: 0.9922\n",
      "Epoch 27/30\n",
      "146/146 [==============================] - 2s 13ms/step - loss: 0.0079 - accuracy: 0.9981 - val_loss: 0.0127 - val_accuracy: 0.9957\n",
      "Epoch 28/30\n",
      "146/146 [==============================] - 2s 13ms/step - loss: 0.0039 - accuracy: 0.9987 - val_loss: 0.0118 - val_accuracy: 0.9957\n",
      "Epoch 29/30\n",
      "146/146 [==============================] - 2s 12ms/step - loss: 0.0079 - accuracy: 0.9981 - val_loss: 0.0089 - val_accuracy: 0.9974\n",
      "Epoch 30/30\n",
      "146/146 [==============================] - 2s 14ms/step - loss: 0.0080 - accuracy: 0.9968 - val_loss: 0.0132 - val_accuracy: 0.9966\n"
     ]
    }
   ],
   "source": [
    "history_LeNet = train_model(model_LeNet, 30)"
   ]
  },
  {
   "cell_type": "code",
   "execution_count": 56,
   "metadata": {
    "ExecuteTime": {
     "end_time": "2023-07-26T14:23:12.131328800Z",
     "start_time": "2023-07-26T14:23:11.996598100Z"
    },
    "collapsed": false
   },
   "outputs": [],
   "source": [
    "model_cnn.save_weights('checkpoints/model_cnn_weights/checkpoint_cpu')\n",
    "model_cnn_2.save_weights('checkpoints/model_cnn_2_weights/checkpoint_cpu')\n",
    "model_LeNet.save_weights('checkpoints/model_LeNet_weights/checkpoint_cpu')"
   ]
  },
  {
   "cell_type": "markdown",
   "metadata": {
    "collapsed": false
   },
   "source": [
    "# Загрузка сохранённых моделей"
   ]
  },
  {
   "cell_type": "code",
   "execution_count": 10,
   "metadata": {
    "ExecuteTime": {
     "end_time": "2023-07-30T15:35:03.881638900Z",
     "start_time": "2023-07-30T15:35:03.712780600Z"
    },
    "collapsed": false
   },
   "outputs": [
    {
     "data": {
      "text/plain": [
       "<tensorflow.python.checkpoint.checkpoint.CheckpointLoadStatus at 0x125bf514790>"
      ]
     },
     "execution_count": 10,
     "metadata": {},
     "output_type": "execute_result"
    }
   ],
   "source": [
    "model_cnn.load_weights('D:/Study/HICT/HICT_Patterns/checkpoints/model_cnn_weights/checkpoint_cpu')\n",
    "model_cnn_2.load_weights('D:/Study/HICT/HICT_Patterns/checkpoints/model_cnn_2_weights/checkpoint_cpu')\n",
    "model_LeNet.load_weights('D:/Study/HICT/HICT_Patterns/checkpoints/model_LeNet_weights/checkpoint_cpu')"
   ]
  },
  {
   "cell_type": "markdown",
   "metadata": {
    "collapsed": false
   },
   "source": [
    "# Создание и обучение моделей для определения вне главной диагонали"
   ]
  },
  {
   "cell_type": "code",
   "execution_count": 17,
   "metadata": {
    "ExecuteTime": {
     "end_time": "2023-08-17T14:53:36.569097200Z",
     "start_time": "2023-08-17T14:53:36.157209200Z"
    },
    "collapsed": false
   },
   "outputs": [
    {
     "name": "stdout",
     "output_type": "stream",
     "text": [
      "Found 2732 files belonging to 2 classes.\n",
      "Using 2186 files for training.\n",
      "Found 2732 files belonging to 2 classes.\n",
      "Using 546 files for validation.\n"
     ]
    }
   ],
   "source": [
    "data_dir = pathlib.Path(f'{local_path}datasets/images_10')\n",
    "\n",
    "with tf.device('/device:CPU:0'):\n",
    "  train_ds = tf.keras.utils.image_dataset_from_directory(\n",
    "    data_dir,\n",
    "    validation_split=0.2,\n",
    "    subset=\"training\",\n",
    "    seed=123,\n",
    "    image_size=(img_height, img_width),\n",
    "    batch_size=batch_size)\n",
    "\n",
    "  val_ds = tf.keras.utils.image_dataset_from_directory(\n",
    "    data_dir,\n",
    "    validation_split=0.2,\n",
    "    subset=\"validation\",\n",
    "    seed=123,\n",
    "    image_size=(img_height, img_width),\n",
    "    batch_size=batch_size)\n",
    "\n",
    "  AUTOTUNE = tf.data.AUTOTUNE\n",
    "  train_ds = train_ds.cache().shuffle(1000).prefetch(buffer_size=AUTOTUNE)\n",
    "  val_ds = val_ds.cache().prefetch(buffer_size=AUTOTUNE)"
   ]
  },
  {
   "cell_type": "code",
   "execution_count": 18,
   "metadata": {
    "ExecuteTime": {
     "end_time": "2023-08-17T14:53:48.229221800Z",
     "start_time": "2023-08-17T14:53:47.939184200Z"
    },
    "collapsed": false
   },
   "outputs": [],
   "source": [
    "model_cnn_uncentered = create_model_cnn()\n",
    "model_cnn_2_uncentered = create_model_cnn_2()\n",
    "model_LeNet_uncentered = create_LeNet5()"
   ]
  },
  {
   "cell_type": "code",
   "execution_count": 19,
   "metadata": {
    "ExecuteTime": {
     "end_time": "2023-08-17T14:54:12.230450400Z",
     "start_time": "2023-08-17T14:53:48.407734700Z"
    },
    "collapsed": false
   },
   "outputs": [
    {
     "name": "stdout",
     "output_type": "stream",
     "text": [
      "Epoch 1/30\n",
      "69/69 [==============================] - 2s 10ms/step - loss: 0.0376 - accuracy: 0.9844 - val_loss: 0.0000e+00 - val_accuracy: 1.0000\n",
      "Epoch 2/30\n",
      "69/69 [==============================] - 1s 8ms/step - loss: 0.0000e+00 - accuracy: 1.0000 - val_loss: 0.0000e+00 - val_accuracy: 1.0000\n",
      "Epoch 3/30\n",
      "69/69 [==============================] - 1s 8ms/step - loss: 0.0000e+00 - accuracy: 1.0000 - val_loss: 0.0000e+00 - val_accuracy: 1.0000\n",
      "Epoch 4/30\n",
      "69/69 [==============================] - 1s 10ms/step - loss: 0.0000e+00 - accuracy: 1.0000 - val_loss: 0.0000e+00 - val_accuracy: 1.0000\n",
      "Epoch 5/30\n",
      "69/69 [==============================] - 1s 10ms/step - loss: 0.0000e+00 - accuracy: 1.0000 - val_loss: 0.0000e+00 - val_accuracy: 1.0000\n",
      "Epoch 6/30\n",
      "69/69 [==============================] - 1s 10ms/step - loss: 0.0000e+00 - accuracy: 1.0000 - val_loss: 0.0000e+00 - val_accuracy: 1.0000\n",
      "Epoch 7/30\n",
      "69/69 [==============================] - 1s 10ms/step - loss: 0.0000e+00 - accuracy: 1.0000 - val_loss: 0.0000e+00 - val_accuracy: 1.0000\n",
      "Epoch 8/30\n",
      "69/69 [==============================] - 1s 10ms/step - loss: 0.0000e+00 - accuracy: 1.0000 - val_loss: 0.0000e+00 - val_accuracy: 1.0000\n",
      "Epoch 9/30\n",
      "69/69 [==============================] - 1s 10ms/step - loss: 0.0000e+00 - accuracy: 1.0000 - val_loss: 0.0000e+00 - val_accuracy: 1.0000\n",
      "Epoch 10/30\n",
      "69/69 [==============================] - 1s 10ms/step - loss: 0.0000e+00 - accuracy: 1.0000 - val_loss: 0.0000e+00 - val_accuracy: 1.0000\n",
      "Epoch 11/30\n",
      "69/69 [==============================] - 1s 10ms/step - loss: 0.0000e+00 - accuracy: 1.0000 - val_loss: 0.0000e+00 - val_accuracy: 1.0000\n",
      "Epoch 12/30\n",
      "69/69 [==============================] - 1s 10ms/step - loss: 0.0000e+00 - accuracy: 1.0000 - val_loss: 0.0000e+00 - val_accuracy: 1.0000\n",
      "Epoch 13/30\n",
      "69/69 [==============================] - 1s 10ms/step - loss: 0.0000e+00 - accuracy: 1.0000 - val_loss: 0.0000e+00 - val_accuracy: 1.0000\n",
      "Epoch 14/30\n",
      "69/69 [==============================] - 1s 10ms/step - loss: 0.0000e+00 - accuracy: 1.0000 - val_loss: 0.0000e+00 - val_accuracy: 1.0000\n",
      "Epoch 15/30\n",
      "69/69 [==============================] - 1s 11ms/step - loss: 0.0000e+00 - accuracy: 1.0000 - val_loss: 0.0000e+00 - val_accuracy: 1.0000\n",
      "Epoch 16/30\n",
      "69/69 [==============================] - 1s 10ms/step - loss: 0.0000e+00 - accuracy: 1.0000 - val_loss: 0.0000e+00 - val_accuracy: 1.0000\n",
      "Epoch 17/30\n",
      "69/69 [==============================] - 1s 11ms/step - loss: 0.0000e+00 - accuracy: 1.0000 - val_loss: 0.0000e+00 - val_accuracy: 1.0000\n",
      "Epoch 18/30\n",
      "69/69 [==============================] - 1s 12ms/step - loss: 0.0000e+00 - accuracy: 1.0000 - val_loss: 0.0000e+00 - val_accuracy: 1.0000\n",
      "Epoch 19/30\n",
      "69/69 [==============================] - 1s 12ms/step - loss: 0.0000e+00 - accuracy: 1.0000 - val_loss: 0.0000e+00 - val_accuracy: 1.0000\n",
      "Epoch 20/30\n",
      "69/69 [==============================] - 1s 12ms/step - loss: 0.0000e+00 - accuracy: 1.0000 - val_loss: 0.0000e+00 - val_accuracy: 1.0000\n",
      "Epoch 21/30\n",
      "69/69 [==============================] - 1s 12ms/step - loss: 0.0000e+00 - accuracy: 1.0000 - val_loss: 0.0000e+00 - val_accuracy: 1.0000\n",
      "Epoch 22/30\n",
      "69/69 [==============================] - 1s 12ms/step - loss: 0.0000e+00 - accuracy: 1.0000 - val_loss: 0.0000e+00 - val_accuracy: 1.0000\n",
      "Epoch 23/30\n",
      "69/69 [==============================] - 1s 12ms/step - loss: 0.0000e+00 - accuracy: 1.0000 - val_loss: 0.0000e+00 - val_accuracy: 1.0000\n",
      "Epoch 24/30\n",
      "69/69 [==============================] - 1s 13ms/step - loss: 0.0000e+00 - accuracy: 1.0000 - val_loss: 0.0000e+00 - val_accuracy: 1.0000\n",
      "Epoch 25/30\n",
      "69/69 [==============================] - 1s 12ms/step - loss: 0.0000e+00 - accuracy: 1.0000 - val_loss: 0.0000e+00 - val_accuracy: 1.0000\n",
      "Epoch 26/30\n",
      "69/69 [==============================] - 1s 12ms/step - loss: 0.0000e+00 - accuracy: 1.0000 - val_loss: 0.0000e+00 - val_accuracy: 1.0000\n",
      "Epoch 27/30\n",
      "69/69 [==============================] - 1s 13ms/step - loss: 0.0000e+00 - accuracy: 1.0000 - val_loss: 0.0000e+00 - val_accuracy: 1.0000\n",
      "Epoch 28/30\n",
      "69/69 [==============================] - 1s 11ms/step - loss: 0.0000e+00 - accuracy: 1.0000 - val_loss: 0.0000e+00 - val_accuracy: 1.0000\n",
      "Epoch 29/30\n",
      "69/69 [==============================] - 1s 13ms/step - loss: 0.0000e+00 - accuracy: 1.0000 - val_loss: 0.0000e+00 - val_accuracy: 1.0000\n",
      "Epoch 30/30\n",
      "69/69 [==============================] - 1s 12ms/step - loss: 0.0000e+00 - accuracy: 1.0000 - val_loss: 0.0000e+00 - val_accuracy: 1.0000\n"
     ]
    }
   ],
   "source": [
    "history_cnn_uncentered = train_model(model_cnn_uncentered, 30)"
   ]
  },
  {
   "cell_type": "code",
   "execution_count": 20,
   "metadata": {
    "ExecuteTime": {
     "end_time": "2023-08-17T14:55:18.275414100Z",
     "start_time": "2023-08-17T14:54:12.234396300Z"
    },
    "collapsed": false
   },
   "outputs": [
    {
     "name": "stdout",
     "output_type": "stream",
     "text": [
      "Epoch 1/30\n"
     ]
    },
    {
     "name": "stderr",
     "output_type": "stream",
     "text": [
      "C:\\Users\\vit\\.conda\\envs\\HICT\\lib\\site-packages\\keras\\backend.py:5582: UserWarning: \"`sparse_categorical_crossentropy` received `from_logits=True`, but the `output` argument was produced by a Softmax activation and thus does not represent logits. Was this intended?\n",
      "  output, from_logits = _get_logits(\n"
     ]
    },
    {
     "name": "stdout",
     "output_type": "stream",
     "text": [
      "69/69 [==============================] - 3s 33ms/step - loss: 0.0277 - accuracy: 0.9899 - val_loss: 0.0311 - val_accuracy: 1.0000\n",
      "Epoch 2/30\n",
      "69/69 [==============================] - 2s 30ms/step - loss: 7.4442e-05 - accuracy: 1.0000 - val_loss: 0.0015 - val_accuracy: 1.0000\n",
      "Epoch 3/30\n",
      "69/69 [==============================] - 2s 31ms/step - loss: 1.8666e-04 - accuracy: 1.0000 - val_loss: 4.9005e-05 - val_accuracy: 1.0000\n",
      "Epoch 4/30\n",
      "69/69 [==============================] - 2s 31ms/step - loss: 3.6151e-05 - accuracy: 1.0000 - val_loss: 8.6059e-06 - val_accuracy: 1.0000\n",
      "Epoch 5/30\n",
      "69/69 [==============================] - 2s 30ms/step - loss: 1.9405e-05 - accuracy: 1.0000 - val_loss: 3.8959e-06 - val_accuracy: 1.0000\n",
      "Epoch 6/30\n",
      "69/69 [==============================] - 2s 31ms/step - loss: 1.9671e-05 - accuracy: 1.0000 - val_loss: 2.2927e-06 - val_accuracy: 1.0000\n",
      "Epoch 7/30\n",
      "69/69 [==============================] - 2s 32ms/step - loss: 1.2702e-05 - accuracy: 1.0000 - val_loss: 1.3497e-06 - val_accuracy: 1.0000\n",
      "Epoch 8/30\n",
      "69/69 [==============================] - 2s 32ms/step - loss: 1.2965e-05 - accuracy: 1.0000 - val_loss: 7.7595e-07 - val_accuracy: 1.0000\n",
      "Epoch 9/30\n",
      "69/69 [==============================] - 2s 31ms/step - loss: 9.3622e-06 - accuracy: 1.0000 - val_loss: 5.3775e-07 - val_accuracy: 1.0000\n",
      "Epoch 10/30\n",
      "69/69 [==============================] - 2s 31ms/step - loss: 7.5541e-06 - accuracy: 1.0000 - val_loss: 4.5369e-07 - val_accuracy: 1.0000\n",
      "Epoch 11/30\n",
      "69/69 [==============================] - 2s 32ms/step - loss: 7.5062e-06 - accuracy: 1.0000 - val_loss: 4.1570e-07 - val_accuracy: 1.0000\n",
      "Epoch 12/30\n",
      "69/69 [==============================] - 2s 32ms/step - loss: 6.0310e-06 - accuracy: 1.0000 - val_loss: 3.8208e-07 - val_accuracy: 1.0000\n",
      "Epoch 13/30\n",
      "69/69 [==============================] - 2s 32ms/step - loss: 8.5038e-06 - accuracy: 1.0000 - val_loss: 3.5479e-07 - val_accuracy: 1.0000\n",
      "Epoch 14/30\n",
      "69/69 [==============================] - 2s 31ms/step - loss: 1.0071e-05 - accuracy: 1.0000 - val_loss: 3.5806e-07 - val_accuracy: 1.0000\n",
      "Epoch 15/30\n",
      "69/69 [==============================] - 2s 32ms/step - loss: 5.6420e-06 - accuracy: 1.0000 - val_loss: 3.1920e-07 - val_accuracy: 1.0000\n",
      "Epoch 16/30\n",
      "69/69 [==============================] - 2s 31ms/step - loss: 4.2288e-06 - accuracy: 1.0000 - val_loss: 3.0021e-07 - val_accuracy: 1.0000\n",
      "Epoch 17/30\n",
      "69/69 [==============================] - 2s 31ms/step - loss: 5.2282e-06 - accuracy: 1.0000 - val_loss: 2.7990e-07 - val_accuracy: 1.0000\n",
      "Epoch 18/30\n",
      "69/69 [==============================] - 2s 32ms/step - loss: 2.7954e-06 - accuracy: 1.0000 - val_loss: 2.6265e-07 - val_accuracy: 1.0000\n",
      "Epoch 19/30\n",
      "69/69 [==============================] - 2s 30ms/step - loss: 3.3540e-06 - accuracy: 1.0000 - val_loss: 2.3623e-07 - val_accuracy: 1.0000\n",
      "Epoch 20/30\n",
      "69/69 [==============================] - 2s 31ms/step - loss: 2.7729e-06 - accuracy: 1.0000 - val_loss: 2.1156e-07 - val_accuracy: 1.0000\n",
      "Epoch 21/30\n",
      "69/69 [==============================] - 2s 31ms/step - loss: 2.7017e-06 - accuracy: 1.0000 - val_loss: 1.9541e-07 - val_accuracy: 1.0000\n",
      "Epoch 22/30\n",
      "69/69 [==============================] - 2s 31ms/step - loss: 3.0333e-06 - accuracy: 1.0000 - val_loss: 1.8231e-07 - val_accuracy: 1.0000\n",
      "Epoch 23/30\n",
      "69/69 [==============================] - 2s 31ms/step - loss: 3.5078e-06 - accuracy: 1.0000 - val_loss: 1.6724e-07 - val_accuracy: 1.0000\n",
      "Epoch 24/30\n",
      "69/69 [==============================] - 2s 31ms/step - loss: 2.0486e-06 - accuracy: 1.0000 - val_loss: 1.4737e-07 - val_accuracy: 1.0000\n",
      "Epoch 25/30\n",
      "69/69 [==============================] - 2s 31ms/step - loss: 2.4545e-06 - accuracy: 1.0000 - val_loss: 1.4170e-07 - val_accuracy: 1.0000\n",
      "Epoch 26/30\n",
      "69/69 [==============================] - 2s 31ms/step - loss: 1.9422e-06 - accuracy: 1.0000 - val_loss: 1.2510e-07 - val_accuracy: 1.0000\n",
      "Epoch 27/30\n",
      "69/69 [==============================] - 2s 31ms/step - loss: 1.4724e-06 - accuracy: 1.0000 - val_loss: 1.2117e-07 - val_accuracy: 1.0000\n",
      "Epoch 28/30\n",
      "69/69 [==============================] - 2s 32ms/step - loss: 1.8275e-06 - accuracy: 1.0000 - val_loss: 1.1266e-07 - val_accuracy: 1.0000\n",
      "Epoch 29/30\n",
      "69/69 [==============================] - 2s 31ms/step - loss: 2.2885e-06 - accuracy: 1.0000 - val_loss: 1.0043e-07 - val_accuracy: 1.0000\n",
      "Epoch 30/30\n",
      "69/69 [==============================] - 2s 31ms/step - loss: 1.4649e-06 - accuracy: 1.0000 - val_loss: 9.4319e-08 - val_accuracy: 1.0000\n"
     ]
    }
   ],
   "source": [
    "history_cnn_2_uncentered = train_model(model_cnn_2_uncentered, 30)"
   ]
  },
  {
   "cell_type": "code",
   "execution_count": 21,
   "metadata": {
    "ExecuteTime": {
     "end_time": "2023-08-17T14:55:47.893215200Z",
     "start_time": "2023-08-17T14:55:18.277414100Z"
    },
    "collapsed": false
   },
   "outputs": [
    {
     "name": "stdout",
     "output_type": "stream",
     "text": [
      "Epoch 1/30\n",
      "69/69 [==============================] - 2s 17ms/step - loss: 0.0241 - accuracy: 0.9973 - val_loss: 0.0000e+00 - val_accuracy: 1.0000\n",
      "Epoch 2/30\n",
      "69/69 [==============================] - 1s 14ms/step - loss: 0.0000e+00 - accuracy: 1.0000 - val_loss: 0.0000e+00 - val_accuracy: 1.0000\n",
      "Epoch 3/30\n",
      "69/69 [==============================] - 1s 14ms/step - loss: 0.0000e+00 - accuracy: 1.0000 - val_loss: 0.0000e+00 - val_accuracy: 1.0000\n",
      "Epoch 4/30\n",
      "69/69 [==============================] - 1s 14ms/step - loss: 0.0000e+00 - accuracy: 1.0000 - val_loss: 0.0000e+00 - val_accuracy: 1.0000\n",
      "Epoch 5/30\n",
      "69/69 [==============================] - 1s 14ms/step - loss: 0.0000e+00 - accuracy: 1.0000 - val_loss: 0.0000e+00 - val_accuracy: 1.0000\n",
      "Epoch 6/30\n",
      "69/69 [==============================] - 1s 14ms/step - loss: 0.0000e+00 - accuracy: 1.0000 - val_loss: 0.0000e+00 - val_accuracy: 1.0000\n",
      "Epoch 7/30\n",
      "69/69 [==============================] - 1s 14ms/step - loss: 0.0000e+00 - accuracy: 1.0000 - val_loss: 0.0000e+00 - val_accuracy: 1.0000\n",
      "Epoch 8/30\n",
      "69/69 [==============================] - 1s 14ms/step - loss: 0.0000e+00 - accuracy: 1.0000 - val_loss: 0.0000e+00 - val_accuracy: 1.0000\n",
      "Epoch 9/30\n",
      "69/69 [==============================] - 1s 14ms/step - loss: 0.0000e+00 - accuracy: 1.0000 - val_loss: 0.0000e+00 - val_accuracy: 1.0000\n",
      "Epoch 10/30\n",
      "69/69 [==============================] - 1s 12ms/step - loss: 0.0000e+00 - accuracy: 1.0000 - val_loss: 0.0000e+00 - val_accuracy: 1.0000\n",
      "Epoch 11/30\n",
      "69/69 [==============================] - 1s 14ms/step - loss: 0.0000e+00 - accuracy: 1.0000 - val_loss: 0.0000e+00 - val_accuracy: 1.0000\n",
      "Epoch 12/30\n",
      "69/69 [==============================] - 1s 12ms/step - loss: 0.0000e+00 - accuracy: 1.0000 - val_loss: 0.0000e+00 - val_accuracy: 1.0000\n",
      "Epoch 13/30\n",
      "69/69 [==============================] - 1s 15ms/step - loss: 0.0000e+00 - accuracy: 1.0000 - val_loss: 0.0000e+00 - val_accuracy: 1.0000\n",
      "Epoch 14/30\n",
      "69/69 [==============================] - 1s 12ms/step - loss: 0.0000e+00 - accuracy: 1.0000 - val_loss: 0.0000e+00 - val_accuracy: 1.0000\n",
      "Epoch 15/30\n",
      "69/69 [==============================] - 1s 14ms/step - loss: 0.0000e+00 - accuracy: 1.0000 - val_loss: 0.0000e+00 - val_accuracy: 1.0000\n",
      "Epoch 16/30\n",
      "69/69 [==============================] - 1s 15ms/step - loss: 0.0000e+00 - accuracy: 1.0000 - val_loss: 0.0000e+00 - val_accuracy: 1.0000\n",
      "Epoch 17/30\n",
      "69/69 [==============================] - 1s 13ms/step - loss: 0.0000e+00 - accuracy: 1.0000 - val_loss: 0.0000e+00 - val_accuracy: 1.0000\n",
      "Epoch 18/30\n",
      "69/69 [==============================] - 1s 14ms/step - loss: 0.0000e+00 - accuracy: 1.0000 - val_loss: 0.0000e+00 - val_accuracy: 1.0000\n",
      "Epoch 19/30\n",
      "69/69 [==============================] - 1s 13ms/step - loss: 0.0000e+00 - accuracy: 1.0000 - val_loss: 0.0000e+00 - val_accuracy: 1.0000\n",
      "Epoch 20/30\n",
      "69/69 [==============================] - 1s 14ms/step - loss: 0.0000e+00 - accuracy: 1.0000 - val_loss: 0.0000e+00 - val_accuracy: 1.0000\n",
      "Epoch 21/30\n",
      "69/69 [==============================] - 1s 13ms/step - loss: 0.0000e+00 - accuracy: 1.0000 - val_loss: 0.0000e+00 - val_accuracy: 1.0000\n",
      "Epoch 22/30\n",
      "69/69 [==============================] - 1s 13ms/step - loss: 0.0000e+00 - accuracy: 1.0000 - val_loss: 0.0000e+00 - val_accuracy: 1.0000\n",
      "Epoch 23/30\n",
      "69/69 [==============================] - 1s 13ms/step - loss: 0.0000e+00 - accuracy: 1.0000 - val_loss: 0.0000e+00 - val_accuracy: 1.0000\n",
      "Epoch 24/30\n",
      "69/69 [==============================] - 1s 14ms/step - loss: 0.0000e+00 - accuracy: 1.0000 - val_loss: 0.0000e+00 - val_accuracy: 1.0000\n",
      "Epoch 25/30\n",
      "69/69 [==============================] - 1s 14ms/step - loss: 0.0000e+00 - accuracy: 1.0000 - val_loss: 0.0000e+00 - val_accuracy: 1.0000\n",
      "Epoch 26/30\n",
      "69/69 [==============================] - 1s 13ms/step - loss: 0.0000e+00 - accuracy: 1.0000 - val_loss: 0.0000e+00 - val_accuracy: 1.0000\n",
      "Epoch 27/30\n",
      "69/69 [==============================] - 1s 14ms/step - loss: 0.0000e+00 - accuracy: 1.0000 - val_loss: 0.0000e+00 - val_accuracy: 1.0000\n",
      "Epoch 28/30\n",
      "69/69 [==============================] - 1s 13ms/step - loss: 0.0000e+00 - accuracy: 1.0000 - val_loss: 0.0000e+00 - val_accuracy: 1.0000\n",
      "Epoch 29/30\n",
      "69/69 [==============================] - 1s 14ms/step - loss: 0.0000e+00 - accuracy: 1.0000 - val_loss: 0.0000e+00 - val_accuracy: 1.0000\n",
      "Epoch 30/30\n",
      "69/69 [==============================] - 1s 14ms/step - loss: 0.0000e+00 - accuracy: 1.0000 - val_loss: 0.0000e+00 - val_accuracy: 1.0000\n"
     ]
    }
   ],
   "source": [
    "history_LeNet_uncentered = train_model(model_LeNet_uncentered, 30)"
   ]
  },
  {
   "cell_type": "code",
   "execution_count": null,
   "metadata": {
    "collapsed": false
   },
   "outputs": [],
   "source": [
    "model_cnn_uncentered.save_weights('checkpoints/model_cnn_weights/checkpoint_cpu_uncentered')\n",
    "model_cnn_2_uncentered.save_weights('checkpoints/model_cnn_2_weights/checkpoint_cpu_uncentered')\n",
    "model_LeNet_uncentered.save_weights('checkpoints/model_LeNet_weights/checkpoint_cpu_uncentered')"
   ]
  },
  {
   "cell_type": "markdown",
   "metadata": {
    "collapsed": false
   },
   "source": [
    "# Export all models"
   ]
  },
  {
   "cell_type": "code",
   "execution_count": 12,
   "metadata": {
    "ExecuteTime": {
     "end_time": "2023-07-30T15:35:20.275250700Z",
     "start_time": "2023-07-30T15:35:20.118061300Z"
    },
    "collapsed": false
   },
   "outputs": [
    {
     "data": {
      "text/plain": [
       "<tensorflow.python.checkpoint.checkpoint.CheckpointLoadStatus at 0x125bf32e110>"
      ]
     },
     "execution_count": 12,
     "metadata": {},
     "output_type": "execute_result"
    }
   ],
   "source": [
    "model_cnn_uncentered.load_weights('D:/Study/HICT/HICT_Patterns/checkpoints/model_cnn_weights/checkpoint_cpu_uncentered')\n",
    "model_cnn_2_uncentered.load_weights('D:/Study/HICT/HICT_Patterns/checkpoints/model_cnn_2_weights/checkpoint_cpu_uncentered')\n",
    "model_LeNet_uncentered.load_weights('D:/Study/HICT/HICT_Patterns/checkpoints/model_LeNet_weights/checkpoint_cpu_uncentered')"
   ]
  },
  {
   "cell_type": "code",
   "execution_count": 22,
   "metadata": {
    "ExecuteTime": {
     "end_time": "2023-08-17T14:55:48.156212700Z",
     "start_time": "2023-08-17T14:55:47.899743900Z"
    },
    "collapsed": false
   },
   "outputs": [],
   "source": [
    "model_cnn.save(\"D:/Study/HICT/HICT_Patterns/exported_models/centered_first.keras\")\n",
    "model_cnn_2.save(\"D:/Study/HICT/HICT_Patterns/exported_models/centered_second.keras\")\n",
    "model_LeNet.save(\"D:/Study/HICT/HICT_Patterns/exported_models/centered_third.keras\")\n",
    "\n",
    "model_cnn_uncentered.save(\"D:/Study/HICT/HICT_Patterns/exported_models/final_first.keras\")\n",
    "model_cnn_2_uncentered.save(\"D:/Study/HICT/HICT_Patterns/exported_models/final_second.keras\")\n",
    "model_LeNet_uncentered.save(\"D:/Study/HICT/HICT_Patterns/exported_models/final_third.keras\")"
   ]
  },
  {
   "cell_type": "code",
   "execution_count": null,
   "metadata": {
    "collapsed": false
   },
   "outputs": [],
   "source": []
  }
 ],
 "metadata": {
  "kernelspec": {
   "display_name": "Python 3",
   "language": "python",
   "name": "python3"
  },
  "language_info": {
   "codemirror_mode": {
    "name": "ipython",
    "version": 3
   },
   "file_extension": ".py",
   "mimetype": "text/x-python",
   "name": "python",
   "nbconvert_exporter": "python",
   "pygments_lexer": "ipython3",
   "version": "3.10.11"
  }
 },
 "nbformat": 4,
 "nbformat_minor": 0
}
