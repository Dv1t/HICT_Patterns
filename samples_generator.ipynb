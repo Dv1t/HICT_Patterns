{
 "cells": [
  {
   "cell_type": "code",
   "execution_count": 1,
   "metadata": {
    "collapsed": true
   },
   "outputs": [],
   "source": [
    "from scipy.stats import skewnorm\n",
    "import numpy as np\n",
    "import matplotlib.pyplot as plt"
   ]
  },
  {
   "cell_type": "code",
   "execution_count": 2,
   "outputs": [],
   "source": [
    "def apply_noise(matrix):\n",
    "    length = min(matrix.shape[0], matrix.shape[1])\n",
    "    shift_num = np.random.randint(6, 8, 1)[0]//2*2\n",
    "    shifts_a = np.random.randint(0, length,size=shift_num)\n",
    "    shifts_a = shifts_a.reshape(shift_num//2, 2)\n",
    "    shifts_b = np.random.randint(0,length,size=shift_num)\n",
    "    shifts_b = shifts_b.reshape(shift_num//2, 2)\n",
    "\n",
    "    for a, b in zip(shifts_a, shifts_b):\n",
    "        matrix[a[0], a[1]], matrix[b[0], b[1]] = matrix[b[0], b[1]], matrix[a[0], a[1]]\n",
    "    return matrix"
   ],
   "metadata": {
    "collapsed": false
   }
  },
  {
   "cell_type": "code",
   "execution_count": 3,
   "outputs": [],
   "source": [
    "def make_sample(sample_type):\n",
    "    matrix = np.zeros((21,21))\n",
    "\n",
    "    if sample_type=='++':\n",
    "        left_up = skewnorm.rvs(5, size=110, loc=1, scale=0.5).reshape(11,10)\n",
    "        left_down = skewnorm.rvs(-6, size=110, loc=2.8, scale=0.5).reshape(10,11)\n",
    "        right_up = skewnorm.rvs(-6, size=110, loc=2.8, scale=0.5).reshape(10,11)\n",
    "        right_down = skewnorm.rvs(5, size=110, loc=1, scale=0.5).reshape(11,10)\n",
    "    if sample_type=='--':\n",
    "        left_up = skewnorm.rvs(5, size=110, loc=1, scale=0.5).reshape(11,10)\n",
    "        left_down = skewnorm.rvs(-6, size=110, loc=2.8, scale=0.5).reshape(10,11)\n",
    "        right_up = skewnorm.rvs(5, size=110, loc=1, scale=0.5).reshape(10,11)\n",
    "        right_down = skewnorm.rvs(5, size=110, loc=1, scale=0.5).reshape(11,10)\n",
    "    if sample_type=='-+':\n",
    "        left_up = skewnorm.rvs(-6, size=110, loc=2.8, scale=0.5).reshape(11,10)\n",
    "        left_down = skewnorm.rvs(5, size=110, loc=1, scale=0.5).reshape(10,11)\n",
    "        right_up = skewnorm.rvs(5, size=110, loc=1, scale=0.5).reshape(10,11)\n",
    "        right_down = skewnorm.rvs(5, size=110, loc=1, scale=0.5).reshape(11,10)\n",
    "    if sample_type=='+-':\n",
    "        left_up = skewnorm.rvs(5, size=110, loc=1, scale=0.5).reshape(11,10)\n",
    "        left_down = skewnorm.rvs(5, size=110, loc=1, scale=0.5).reshape(10,11)\n",
    "        right_up = skewnorm.rvs(5, size=110, loc=1, scale=0.5).reshape(10,11)\n",
    "        right_down = skewnorm.rvs(-6, size=110, loc=2.8, scale=0.5).reshape(11,10)\n",
    "\n",
    "    if sample_type=='negative':\n",
    "        matrix = skewnorm.rvs(4, size=441, loc=0, scale=0.2).reshape(21,21)\n",
    "        return matrix\n",
    "\n",
    "    left_up.sort(axis=0)\n",
    "    left_up.sort(axis=1)\n",
    "    left_down.sort(axis=0)\n",
    "    left_down.sort(axis=1)\n",
    "    right_up.sort(axis=0)\n",
    "    right_up.sort(axis=1)\n",
    "    right_down.sort(axis=0)\n",
    "    right_down.sort(axis=1)\n",
    "\n",
    "    left_up = apply_noise(left_up)\n",
    "    left_down = apply_noise(left_down)\n",
    "    right_down = apply_noise(right_down)\n",
    "    right_up = apply_noise(right_up)\n",
    "\n",
    "    matrix[0:11,0:10] = left_up\n",
    "    matrix[11:21, 0:11] = np.flip(left_down, axis=0)\n",
    "    matrix[0:10, 10:21] = np.flip(right_up, axis=1)\n",
    "    matrix[10:21, 11:21] = np.flip(np.flip(right_down, axis=0), axis=1)\n",
    "    matrix[10,10] = skewnorm.rvs(-6, size=1, loc=2.8, scale=0.5)\n",
    "\n",
    "    return matrix"
   ],
   "metadata": {
    "collapsed": false
   }
  },
  {
   "cell_type": "code",
   "execution_count": 155,
   "outputs": [],
   "source": [
    "for i in range(300):\n",
    "    matrix_plus_minus = make_sample('negative')\n",
    "    plt.imsave(f'images/negative/{i}.png', matrix_plus_minus, cmap='gray')"
   ],
   "metadata": {
    "collapsed": false
   }
  },
  {
   "cell_type": "code",
   "execution_count": 5,
   "outputs": [
    {
     "data": {
      "text/plain": "<Figure size 640x480 with 1 Axes>",
      "image/png": "[encoded data removed]"
     },
     "metadata": {},
     "output_type": "display_data"
    },
    {
     "data": {
      "text/plain": "<Figure size 9.1875x9.1875 with 0 Axes>"
     },
     "metadata": {},
     "output_type": "display_data"
    }
   ],
   "source": [
    "matrix_plus_minus = make_sample('negative')\n",
    "fig = plt.figure(frameon=False)\n",
    "plt.figure(figsize=(2.1, 2.1), dpi=4.375)\n",
    "ax = plt.Axes(fig, [0., 0., 1., 1.])\n",
    "ax.set_axis_off()\n",
    "fig.add_axes(ax)\n",
    "im = ax.matshow(matrix_plus_minus, cmap='gray_r')\n",
    "plt.imsave('DR.png', matrix_plus_minus, cmap='gray')\n",
    "#fig.savefig(f'images/negative/{i}', dpi=4.375, bbox_inches='tight',  pad_inches=0)"
   ],
   "metadata": {
    "collapsed": false
   }
  },
  {
   "cell_type": "code",
   "execution_count": 1,
   "outputs": [
    {
     "data": {
      "text/plain": "{'X': SeqRecord(seq=Seq('CAGCAGCTGCAGCTACCAGCAACCTGAAAAAAACAAAACAAAACACTTTAAAAT...GAA'), id='X', name='X', description='X', dbxrefs=[]),\n '2R': SeqRecord(seq=Seq('CTTGAAATTTGATGTTGAATTTTGTTGCCATCTATTATCGTTGTTACGGCCATG...ATG'), id='2R', name='2R', description='2R', dbxrefs=[]),\n '2L': SeqRecord(seq=Seq('TTCAGTTACGTATTGCTAATCAACCGTCGGTATTCTATACGCGTACGATCCAGG...AAC'), id='2L', name='2L', description='2L', dbxrefs=[]),\n '3R': SeqRecord(seq=Seq('ATATTAATCAGCTTTTAGTAGCTACTGTATTAAGTCCGCAAAACTATTTGGTTT...GAA'), id='3R', name='3R', description='3R', dbxrefs=[]),\n '3L': SeqRecord(seq=Seq('ATCTCGGCATCATCTACCCCATATACAAAGGAGACAGGTTGGACTGCAACAACT...AAC'), id='3L', name='3L', description='3L', dbxrefs=[]),\n 'scaffold_9': SeqRecord(seq=Seq('CAAATCAAAGCCCTGGGACACAATAACAAGGATCTTGGCGATGTAAAAGTTTCA...AGT'), id='scaffold_9', name='scaffold_9', description='scaffold_9', dbxrefs=[]),\n 'scaffold_10': SeqRecord(seq=Seq('GCACTTTCCTCTAACGCAAAGTACTGCCGCATGGTCTCGTTCAGTTCTTGATCA...TGT'), id='scaffold_10', name='scaffold_10', description='scaffold_10', dbxrefs=[]),\n 'scaffold_11': SeqRecord(seq=Seq('GACGTTGAATTTTGTTGCCATCTATTATCGTTGTTTTGGCCATGTTTCATCCAA...TCG'), id='scaffold_11', name='scaffold_11', description='scaffold_11', dbxrefs=[]),\n 'scaffold_12': SeqRecord(seq=Seq('TATTACGGCCATGTTTCATCCAAATGAAGCCATCTTGCACTATTTGAATGGCCT...TTA'), id='scaffold_12', name='scaffold_12', description='scaffold_12', dbxrefs=[]),\n 'scaffold_13': SeqRecord(seq=Seq('GTACTTCGTTCAGTTACGTATTGCTGTTTGACGAAAATGCAAGGTCATTCATTA...CCA'), id='scaffold_13', name='scaffold_13', description='scaffold_13', dbxrefs=[]),\n 'scaffold_14': SeqRecord(seq=Seq('GAAAGCTCAAGTGTTGTAGTTGGATGTTCCTTCAAATGGCCATAACTTCGTAGC...ACA'), id='scaffold_14', name='scaffold_14', description='scaffold_14', dbxrefs=[]),\n 'scaffold_15': SeqRecord(seq=Seq('GTACTTCGTTCAGTTACGTATTGCTAACATGGCCGTAACAACGATAATAGATGG...TCC'), id='scaffold_15', name='scaffold_15', description='scaffold_15', dbxrefs=[]),\n 'scaffold_16': SeqRecord(seq=Seq('TTGAGACAGTTTTGGGAAGGTATTGAAGTGGTCTACAAGATCTGCGCATAGGTT...CTA'), id='scaffold_16', name='scaffold_16', description='scaffold_16', dbxrefs=[]),\n 'scaffold_17': SeqRecord(seq=Seq('AGCTTACGTACGACACGGCGGACGGGCCGGTTACCCGCCGAGTATCGGCAGGTG...GCA'), id='scaffold_17', name='scaffold_17', description='scaffold_17', dbxrefs=[]),\n 'scaffold_18': SeqRecord(seq=Seq('TTGAACCAGAAGAGCTAGAGACGTAGTTTTTGCACCATTAGAAAGGAAATTTAT...TGT'), id='scaffold_18', name='scaffold_18', description='scaffold_18', dbxrefs=[]),\n 'scaffold_19': SeqRecord(seq=Seq('CATAATGGGTCATATTACCCTTTGAAAACATGCTCAAATTGACCACCGAGTACA...TCT'), id='scaffold_19', name='scaffold_19', description='scaffold_19', dbxrefs=[]),\n 'scaffold_20': SeqRecord(seq=Seq('TAACAACGATAATAGATGGCAACAAAATTCAACATCAAATTTCAAGGCCAATGA...TCC'), id='scaffold_20', name='scaffold_20', description='scaffold_20', dbxrefs=[]),\n 'scaffold_21': SeqRecord(seq=Seq('TGTTGCAATCGCTCGTGGCAGAAGGGTTGGTTTTAAATGCCAACTTCACATTCG...TAC'), id='scaffold_21', name='scaffold_21', description='scaffold_21', dbxrefs=[]),\n 'scaffold_22': SeqRecord(seq=Seq('GGCCATGTTTCATCCAAATGAAGCCATCTTGCACTATTTGAATGGCCTTGAAAT...ACG'), id='scaffold_22', name='scaffold_22', description='scaffold_22', dbxrefs=[]),\n 'scaffold_23': SeqRecord(seq=Seq('TTGAGACAGTTTTGGGAAGGTATTGAAGTGGTCTACAAGATCTGCGCATAGGTT...GAA'), id='scaffold_23', name='scaffold_23', description='scaffold_23', dbxrefs=[]),\n 'scaffold_24': SeqRecord(seq=Seq('CGTTTTTATGTCATTGGGCCTTCATGAATAAGCAAATCAAAGCCCTGGGACACA...GTC'), id='scaffold_24', name='scaffold_24', description='scaffold_24', dbxrefs=[]),\n 'scaffold_25': SeqRecord(seq=Seq('GTAACAACGATAATAGATGGCAACAAAACTCAACATCAAATTTCAAGGCCATTC...TAA'), id='scaffold_25', name='scaffold_25', description='scaffold_25', dbxrefs=[]),\n 'scaffold_26': SeqRecord(seq=Seq('GAGCAAAGGAACATATAGTAATTGCCTCTGAAGTTGAAGGTTTTGTGGAAAGTC...CCT'), id='scaffold_26', name='scaffold_26', description='scaffold_26', dbxrefs=[]),\n 'scaffold_27': SeqRecord(seq=Seq('TTTGTTGCCATCTATTATCGTTGTTACGGCCATGTTTCATCCAAATAAACCATC...GCC'), id='scaffold_27', name='scaffold_27', description='scaffold_27', dbxrefs=[]),\n 'scaffold_28': SeqRecord(seq=Seq('CAACATCAAATTTCAAGGCCATTCAAATAGTGCAAGATGGCTTCATTTGGATGA...GTG'), id='scaffold_28', name='scaffold_28', description='scaffold_28', dbxrefs=[]),\n 'scaffold_29': SeqRecord(seq=Seq('TGTACTTCGTTCAGTTACGTATTGCTCCATGCTTGAATGTTTGACGAAAATGCA...TCG'), id='scaffold_29', name='scaffold_29', description='scaffold_29', dbxrefs=[]),\n 'scaffold_30': SeqRecord(seq=Seq('TTTATTTGGATGAAACATGGCCGTAACAACGATAATAGATAACAACAAAACTCA...AAG'), id='scaffold_30', name='scaffold_30', description='scaffold_30', dbxrefs=[]),\n 'scaffold_31': SeqRecord(seq=Seq('TATGACCCATTATGAAACTTTTACATCGCCAAGATCCTTGTTATTGTGTCCCAG...GTC'), id='scaffold_31', name='scaffold_31', description='scaffold_31', dbxrefs=[]),\n 'scaffold_32': SeqRecord(seq=Seq('CTTTCAGGATGAAGAAACCGACTATTCTGATTCTATTCTTCTTAGTTTCTTGGC...CAA'), id='scaffold_32', name='scaffold_32', description='scaffold_32', dbxrefs=[]),\n 'scaffold_33': SeqRecord(seq=Seq('TCATTTGCAAACTTTGCACGTCACCAAAAAACTATCGTTGTTAATTTTGATTTT...ATA'), id='scaffold_33', name='scaffold_33', description='scaffold_33', dbxrefs=[]),\n 'scaffold_34': SeqRecord(seq=Seq('ATAATCTAATGGGTTTTAAAGCTAGGAAATAGGAAAAAGGAAGTAATTAAAACC...ATA'), id='scaffold_34', name='scaffold_34', description='scaffold_34', dbxrefs=[]),\n 'scaffold_35': SeqRecord(seq=Seq('ACATTTTAGCTATATCTCCCACAAGTGCTATTTGGTAGGTGCGGAATCGCAACA...GGA'), id='scaffold_35', name='scaffold_35', description='scaffold_35', dbxrefs=[]),\n 'scaffold_36': SeqRecord(seq=Seq('TTTGTATGAACCTTGGGGACACCTTGGGACAACCTCTGAAGTCATTCTAGAGTG...CCT'), id='scaffold_36', name='scaffold_36', description='scaffold_36', dbxrefs=[]),\n 'scaffold_37': SeqRecord(seq=Seq('CGTTAACAACGATAATAGATGGCAACAAAATTCAACATCAAATTTCAAGGCCAT...GGC'), id='scaffold_37', name='scaffold_37', description='scaffold_37', dbxrefs=[]),\n 'scaffold_38': SeqRecord(seq=Seq('ATGAAACATGGCCGTAACAACGATAATAGATGGCAACAAAACTCAACATCAAAT...TGG'), id='scaffold_38', name='scaffold_38', description='scaffold_38', dbxrefs=[]),\n 'scaffold_39': SeqRecord(seq=Seq('TGAAATTTGATGTTGAGTTTTGTTGCCATCTATTATCGTTGTTACGGCCATGTT...CAT'), id='scaffold_39', name='scaffold_39', description='scaffold_39', dbxrefs=[]),\n 'scaffold_40': SeqRecord(seq=Seq('AGATGGCAACAAGATTCAACATCAAATTTCAAGGCCATTGAATTAGTGCAAGAT...AAT'), id='scaffold_40', name='scaffold_40', description='scaffold_40', dbxrefs=[]),\n 'scaffold_41': SeqRecord(seq=Seq('GAACTCCTCCACTCTCTGGTTGGCCTTGTCTTCCGACACCTCCAGAGACTTCAG...AAA'), id='scaffold_41', name='scaffold_41', description='scaffold_41', dbxrefs=[]),\n 'scaffold_42': SeqRecord(seq=Seq('ATCGGCCATGATCAACGTCGCAATCGGCGTTCAGCGCCCAGACGCCAGCCTCTT...GTG'), id='scaffold_42', name='scaffold_42', description='scaffold_42', dbxrefs=[]),\n 'scaffold_43': SeqRecord(seq=Seq('CACACACACATACACACACACTATTCTATTTCTCTCTTCGCTGTTTGCTTACTT...GCC'), id='scaffold_43', name='scaffold_43', description='scaffold_43', dbxrefs=[]),\n 'scaffold_44': SeqRecord(seq=Seq('TGTACTTCGTTCAGTTACGTATTGCTAGTTGGATGTTCCTTCAAATGGCCATAA...CAT'), id='scaffold_44', name='scaffold_44', description='scaffold_44', dbxrefs=[])}"
     },
     "execution_count": 1,
     "metadata": {},
     "output_type": "execute_result"
    }
   ],
   "source": [
    "from Bio import SeqIO\n",
    "\n",
    "records = {}\n",
    "with open(\"data/an_gambiae_zanu_m.fasta\") as handle:\n",
    "    for record in (SeqIO.parse(handle, \"fasta\")):\n",
    "        records[record.id] = record\n",
    "records"
   ],
   "metadata": {
    "collapsed": false
   }
  },
  {
   "cell_type": "code",
   "execution_count": 7,
   "outputs": [],
   "source": [
    "records_new = {}\n",
    "records_new['X'] = records['X']\n",
    "chr2 = records['2L'].seq + 1000*\"N\" + records['2R'].seq\n",
    "chr3 = records['3L'].seq + 1000*\"N\" + records['3R'].seq\n",
    "records_new['chr2'] = SeqIO.SeqRecord(chr2,'chr2','chr2','chr2')\n",
    "records_new['chr3'] = SeqIO.SeqRecord(chr3,'chr3','chr3','chr3')"
   ],
   "metadata": {
    "collapsed": false
   }
  },
  {
   "cell_type": "code",
   "execution_count": 13,
   "outputs": [],
   "source": [
    "import random\n",
    "\n",
    "def make_deletion(seq, end):\n",
    "    length = 1000000#random.randint(1000, 5000)\n",
    "    start = end - length\n",
    "    if start <=0:\n",
    "        return False\n",
    "    seq = seq[:start] + seq[end:]\n",
    "\n",
    "    return seq, start, start\n",
    "\n",
    "def make_duplication(seq, end):\n",
    "    length = 1000000#random.randint(1000, 5000)\n",
    "    start = end - length\n",
    "    if start <=0:\n",
    "        return False\n",
    "    seq = seq[:end] + seq[start:end] + seq[end:]\n",
    "\n",
    "    return seq, end, end+length\n",
    "\n",
    "def make_duplication_reverse(seq, end):\n",
    "    length = 1000000#random.randint(1000, 5000)\n",
    "    start = end - length\n",
    "    if start <=0:\n",
    "        return False\n",
    "    seq = seq[:start] + seq[start:end] + seq[start:end].reverse_complement() + seq[end:]\n",
    "    return seq, end, end+length\n",
    "\n",
    "def make_reverse(seq, end):\n",
    "    length = 1000000#random.randint(1000, 5000)\n",
    "    start = end - length\n",
    "    if start <=0:\n",
    "        return False\n",
    "    seq = seq[:start] + seq[start:end].reverse_complement() + seq[end:]\n",
    "\n",
    "    return seq, start, end\n",
    "\n",
    "def make_translocation(seq, end, reverse=False):\n",
    "    length = 10000000#random.randint(20000, 100000)\n",
    "    start = end - length\n",
    "\n",
    "    if start <=0:\n",
    "        return False\n",
    "\n",
    "\n",
    "    move_length = 1000000#random.randint(1000, 5000)\n",
    "    moving_start = random.randint(start + random.randint(10, 100), end - random.randint(10, 100)-move_length)\n",
    "    move_seq = seq[moving_start:moving_start+move_length]\n",
    "    if reverse:\n",
    "        move_seq = move_seq.reverse_complement()\n",
    "    if moving_start - start > end - moving_start+move_length:\n",
    "        move_point = random.randint(start+1, moving_start)\n",
    "        seq = seq[:move_point] + move_seq + seq[move_point:moving_start] + seq[moving_start+move_length:]\n",
    "        return seq,(moving_start, moving_start+move_length) , (moving_start+move_length,move_point+move_length), (moving_start, move_point), start\n",
    "    else:\n",
    "        move_point = random.randint(moving_start+move_length+1, end)\n",
    "        seq = seq[:moving_start] + seq[moving_start+move_length:move_point] + move_seq + seq[move_point:]\n",
    "\n",
    "        return seq, (moving_start, move_point-move_length), (moving_start, move_point), (move_point-move_length, move_point), start\n",
    "\n",
    "\n",
    "def make_translocation_reverse(seq, end):\n",
    "    length = 10000000#random.randint(20000, 100000)\n",
    "    start = end - length\n",
    "\n",
    "    if start <=0:\n",
    "        return False\n",
    "\n",
    "\n",
    "    move_length = 1000000#random.randint(1000, 5000)\n",
    "    moving_start = random.randint(start + random.randint(10, 100), end - random.randint(10, 100)-move_length)\n",
    "    move_seq = seq[moving_start:moving_start+move_length].reverse_complement()\n",
    "    if moving_start - start > end - moving_start+move_length:\n",
    "        move_point = random.randint(start+1, moving_start)\n",
    "        seq = seq[:move_point] + move_seq + seq[move_point:moving_start] + seq[moving_start+move_length:]\n",
    "        return seq, move_point, moving_start, move_point+move_length, moving_start, start\n",
    "    else:\n",
    "        move_point = random.randint(moving_start+move_length+1, end)\n",
    "        seq = seq[:moving_start] + seq[moving_start+move_length:move_point] + move_seq + seq[move_point:]\n",
    "\n",
    "        return seq, (moving_start, moving_start+move_length), (moving_start, move_point), (moving_start+move_length, move_point+move_length), start\n",
    "\n",
    "record = records_new['X']\n",
    "seq = record.seq\n",
    "\n",
    "with open('data/transitions.csv', mode='w') as output:\n",
    "    output.write(f'label,start,end\\n')\n",
    "    end = len(seq) - 1\n",
    "    for i in range(3):\n",
    "        '''\n",
    "        end -= random.randint(1000, 10000)\n",
    "        seq, start, end = make_deletion(seq, end)\n",
    "        output.write(f'+-, {start}, {end}\\n')\n",
    "        start, end = end, start\n",
    "\n",
    "        end -= random.randint(10000, 10000)\n",
    "        seq, start, end = make_duplication(seq, end)\n",
    "        output.write(f'-+, {start}, {end}\\n')\n",
    "        start, end = end, start\n",
    "\n",
    "        end -= random.randint(1000, 10000)\n",
    "        seq, start, end = make_duplication_reverse(seq, end)\n",
    "        output.write(f'--, {start}, {end}\\n')\n",
    "        start, end = end, start\n",
    "\n",
    "        end -= random.randint(1000, 10000)\n",
    "        seq, start, end = make_reverse(seq, end)\n",
    "        output.write(f'++, {start}, {end}\\n')\n",
    "        '''\n",
    "        end -= random.randint(1000, 10000)\n",
    "        seq, plus_minus, minus_plus_1, minus_plus_2, end = make_translocation(seq, end)\n",
    "        output.write(f'+-,{plus_minus[0]},{plus_minus[1]}\\n')\n",
    "        output.write(f'-+,{minus_plus_1[0]},{minus_plus_1[1]}\\n')\n",
    "        output.write(f'-+,{minus_plus_2[0]},{minus_plus_2[1]}\\n')\n",
    "\n",
    "        end -= random.randint(1000, 10000)\n",
    "        seq, plus_minus, minus_plus_1, minus_plus_2, end = make_translocation(seq, end, True)\n",
    "        output.write(f'+-,{plus_minus[0]},{plus_minus[1]}\\n')\n",
    "        output.write(f'-+, {minus_plus_1[0]},{minus_plus_1[1]}\\n')\n",
    "        output.write(f'-+,{minus_plus_2[0]},{minus_plus_2[1]}\\n')"
   ],
   "metadata": {
    "collapsed": false
   }
  },
  {
   "cell_type": "code",
   "execution_count": 82,
   "outputs": [
    {
     "name": "stdout",
     "output_type": "stream",
     "text": [
      "CAGCAGCTGCAGCTACCAGC\n",
      "CAGCAGCTGC\n",
      "GCTGC\n",
      "AGCTACCAGC\n",
      "(Seq('CAGCAGCTGCGCTGCAGCTACCAGC'), 10)\n"
     ]
    }
   ],
   "source": [
    "def make_duplication(seq):\n",
    "    start = 5#random.randint(0, len(seq))\n",
    "    end = start + 5#max(start + random.randint(1000, 5000), len(seq) - 1)\n",
    "    seq = seq[:end] + seq[start:end] + seq[end:]\n",
    "    return seq, end\n",
    "\n",
    "print(record.seq[0:20])\n",
    "print(make_duplication(record.seq[0:20]))"
   ],
   "metadata": {
    "collapsed": false
   }
  },
  {
   "cell_type": "code",
   "execution_count": 14,
   "outputs": [],
   "source": [
    "with open('data/rearrangement_x_trans.fasta', mode='w') as output:\n",
    "    output.write(f'>X\\n')\n",
    "    output.write(str(seq))\n",
    "    output.write('\\n')"
   ],
   "metadata": {
    "collapsed": false
   }
  },
  {
   "cell_type": "code",
   "execution_count": 5,
   "outputs": [
    {
     "data": {
      "text/plain": "1219.3482"
     },
     "execution_count": 5,
     "metadata": {},
     "output_type": "execute_result"
    }
   ],
   "source": [
    "len(records_new['X'].seq)/50000"
   ],
   "metadata": {
    "collapsed": false
   }
  },
  {
   "cell_type": "code",
   "execution_count": null,
   "outputs": [],
   "source": [
    "60950000"
   ],
   "metadata": {
    "collapsed": false
   }
  }
 ],
 "metadata": {
  "kernelspec": {
   "display_name": "Python 3",
   "language": "python",
   "name": "python3"
  },
  "language_info": {
   "codemirror_mode": {
    "name": "ipython",
    "version": 2
   },
   "file_extension": ".py",
   "mimetype": "text/x-python",
   "name": "python",
   "nbconvert_exporter": "python",
   "pygments_lexer": "ipython2",
   "version": "2.7.6"
  }
 },
 "nbformat": 4,
 "nbformat_minor": 0
}
